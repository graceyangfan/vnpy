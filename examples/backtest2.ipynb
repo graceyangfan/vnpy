{
 "cells": [
  {
   "cell_type": "code",
   "execution_count": 1,
   "id": "8e68d961-1835-488f-b087-4d8267c18508",
   "metadata": {
    "gradient": {
     "editing": false,
     "execution_count": 6,
     "id": "8e68d961-1835-488f-b087-4d8267c18508",
     "kernelId": "56be0568-28a5-44c4-ba07-cc6d8ff4a37c"
    },
    "tags": []
   },
   "outputs": [
    {
     "name": "stderr",
     "output_type": "stream",
     "text": [
      "/usr/local/lib/python3.6/dist-packages/tzlocal/unix.py:158: UserWarning: Can not find any timezone configuration, defaulting to UTC.\n",
      "  warnings.warn('Can not find any timezone configuration, defaulting to UTC.')\n"
     ]
    }
   ],
   "source": [
    "import uuid\n",
    "import lightgbm as lgb\n",
    "from scipy import special\n",
    "import numpy as np\n",
    "import pandas as pd\n",
    "from collections import OrderedDict\n",
    "from functools import lru_cache \n",
    "from datetime import date, datetime, timedelta\n",
    "from zenquant.trader.database import get_database\n",
    "from zenquant.trader.constant import Interval\n",
    "from zenquant.trader.object import  OrderData, TradeData, BarData, TickData\n",
    "from zenquant.ctastrategy.base import (\n",
    "    STOPORDER_PREFIX,\n",
    "    StopOrder,\n",
    "    StopOrderStatus,\n",
    "    INTERVAL_DELTA_MAP\n",
    ")\n",
    "from zenquant.trader.constant import (\n",
    "    Status,\n",
    "    Direction,\n",
    "    Offset,\n",
    "    Exchange\n",
    ")\n",
    "import gym\n",
    "from zenquant.trader.utility import  round_to\n",
    "from zenquant.feed.data import BarDataFeed,TickDataFeed \n",
    "from zenquant.feed.portfolio import PortfolioDataStream,NetPortfolioDataStream\n",
    "from zenquant.env.action import ContinueAction \n",
    "from zenquant.env.observer import Observer\n",
    "from zenquant.env.reward import Reward \n",
    "from zenquant.env.stopper import Stopper\n",
    "from zenquant.env.informer import Informer\n",
    "from zenquant.env.renender import BarRenderer\n",
    "from zenquant.utils.get_indicators_info import (\n",
    "    get_bar_level_indicator_info,\n",
    "    get_tick_level_indicator_info\n",
    ")\n",
    "\n",
    "def softmax(x):\n",
    "    exp_x = np.exp(x - np.max(x))\n",
    "    return exp_x / (np.sum(exp_x, axis=1, keepdims=True) + 1e-6)\n",
    "\n",
    "class ContinueEnv(gym.Env):\n",
    "    \"\"\"\n",
    "    A trading environment made for use with Gym-compatible reinforcement\n",
    "    learning algorithms with continue actions.\n",
    "    Parameters\n",
    "    ----------\n",
    "    \"\"\"\n",
    "    def __init__(self):\n",
    "        self.clock_step = 0 \n",
    "        self.if_discrete = False\n",
    "        self.agent_id = 0    ## updated by agent \n",
    "        self.env_num  = 0    ## updated by agent \n",
    "        self.target_return = 10 \n",
    "        self.env_name = \"ContinueEnv\"\n",
    "        self.episode_id = 0\n",
    "        self.tick: TickData\n",
    "        self.bar: BarData\n",
    "        self.datetime = None\n",
    "        self.last_price = 6000  ##division by zero\n",
    "        self.interval = None\n",
    "        self.min_step = 250\n",
    "\n",
    "        self.history_data = []\n",
    "        #history \n",
    "        self.history_action = 0\n",
    "        self.history_pnl = 0\n",
    "\n",
    "        self.stop_order_count = 0\n",
    "        self.stop_orders = {}\n",
    "        self.active_stop_orders = {}\n",
    "\n",
    "        self.limit_order_count = 0\n",
    "        self.limit_orders = {}\n",
    "        self.active_limit_orders = {}\n",
    "\n",
    "        self.trade_count = 0\n",
    "        self.trades = OrderedDict()\n",
    "    def on_init(self,**kwargs):\n",
    "        '''\n",
    "        init basic components  of environments \n",
    "        read data and load data \n",
    "        '''\n",
    "        ##parameters for environments\n",
    "\n",
    "        self.gateway_name = kwargs.get(\"gateway_name\",\"CryptoBacktest\")\n",
    "        self.mode = kwargs.get('mode',\"bar\") \n",
    "        self.vt_symbol = kwargs.get(\"vt_symbol\", \"BTCUSDT.BINANCE\")\n",
    "        self.interval = Interval( kwargs.get(\"interval\",\"1m\"))\n",
    "        self.min_step = kwargs.get(\"min_step\",250)\n",
    "        self.symbol = kwargs.get(\"symbol\", \"BTC/USDT\")\n",
    "        self.exchange= kwargs.get(\"exchange\",Exchange.BINANCE) \n",
    "\n",
    "        self.start = kwargs.get(\"start\", datetime(2021, 9, 1))\n",
    "        self.end = kwargs.get(\"end\", datetime.now())\n",
    "        ##parmaeters for environments' components\n",
    "        ##portfolio\n",
    "        self.MarginLevel= kwargs.get(\"MarginLevel\", 1)\n",
    "        self.risk_free = kwargs.get(\"risk_free\", 0)\n",
    "        self.capital =kwargs.get(\"capital\", 100000)\n",
    "        self.commission_rate = kwargs.get(\"commission_rate\",0.0)\n",
    "        self.slippage_rate = kwargs.get(\"slippage_rate \",0.0)\n",
    "        ##Action \n",
    "        self.action_dim = kwargs.get(\"action_dim\",1) \n",
    "        self.pricetick = kwargs.get(\"pricetick\", 0.01)\n",
    "        self.min_volume = kwargs.get(\"min_volume\", 0.001)\n",
    "        self.min_trade_balance = kwargs.get(\"min_trade_balance\", 5)\n",
    "        self.limit_total_margin_rate = kwargs.get(\"limit_total_margin_rate\", 0.5)\n",
    "        self.available_change_percent= kwargs.get(\"available_change_percent\", 0.5)\n",
    "        self.skip_mode = kwargs.get(\"skip_mode\", \"sma\") \n",
    "        self.sma_window = kwargs.get(\"sma_window\", 10)\n",
    "        self.atr_window = kwargs.get(\"atr_window\", 14) \n",
    "        self.boll_window = kwargs.get(\"boll_window\", 18)\n",
    "        self.boll_dev = kwargs.get(\"boll_dev\", 3.4)\n",
    "        self.holding_pos_mode = kwargs.get(\"holding_pos_mode\", \"net\")\n",
    "        self.use_stop = kwargs.get(\"use_stop\", False)\n",
    "        ##Observer \n",
    "        self.pos_info_scale = kwargs.get(\"pos_info_scale\", 2**-7)\n",
    "        self.indicator_info_scale = kwargs.get(\"indicator_info_scale\", 2**-8)\n",
    "        self.history_action_scale = kwargs.get(\"history_action_scale\", 2**-7)\n",
    "        self.history_pnl_scale = kwargs.get(\"history_pnl_scale\", 2**-8)\n",
    "        self.state_dim= kwargs.get(\"state_dim\", 3)\n",
    "        self.windows_size = kwargs.get(\"windows_size\", 5) \n",
    "        self.indicator_windows_list = kwargs.get(\"indicator_windows_list\",[10,20,40,80])\n",
    "        ##Rewarder \n",
    "        self.lag_window = kwargs.get(\"lag_window\", 5)  \n",
    "        self.extra_reward = kwargs.get(\"extra_reward\", 0.001) \n",
    "        self.survive_reward_scale = kwargs.get(\"survive_reward_scale\", 0.001) \n",
    "        self.reward_mode = kwargs.get(\"reward_mode\", \"differential_sharpe_ratio\") \n",
    "        ##Stopper  and Informer\n",
    "        self.max_allowed_loss = kwargs.get(\"max_allowed_loss\", 0.05) \n",
    "        ##traning params\n",
    "        self.profit_stop_rate = kwargs.get(\"profit_stop_rate\", 1)\n",
    "        self.loss_stop_rate = kwargs.get(\"loss_stop_rate\", -0.5) \n",
    "        self.threshold = kwargs.get(\"threshold\",0.43)\n",
    "        ##Renender(by **kwargs)\n",
    "        \n",
    "        ##load data  to history_data\n",
    "        self.load_data() \n",
    "        self.max_step= len(self.history_data) -1 \n",
    "        #update datafeed and update indicators' info \n",
    "        if self.mode == \"bar\":\n",
    "            self.datafeed = BarDataFeed(len(self.history_data))\n",
    "            for idx,bar in enumerate(self.history_data):\n",
    "                self.datafeed.update_by_index(idx,bar) \n",
    "            self.indicator_array = get_bar_level_indicator_info(self.datafeed,self.indicator_windows_list)\n",
    "            self.atr_array = self.datafeed.atr(self.atr_window,array = True)\n",
    "            self.sma_array = self.datafeed.sma(self.sma_window,array = True)\n",
    "            self.boll_up,self.boll_down = self.datafeed.boll(self.boll_window,self.boll_dev,array = True)\n",
    "        elif self.mode == \"tick\":\n",
    "            self.datafeed = TickDataFeed(len(self.history_data))\n",
    "            for idx,tick  in enumerate(self.history_data):\n",
    "                self.datafeed.update_by_index(idx,tick) \n",
    "            self.indicator_array = get_tick_level_indicator_info(self.datafeed,self.indicator_windows_list)\n",
    "            self.atr_array = self.datafeed.atr(self.atr_window,array = True)\n",
    "            self.sma_array = self.datafeed.sma(self.sma_window,array = True)\n",
    "            self.boll_up,self.boll_down = self.datafeed.boll(self.boll_window,self.boll_dev,array = True)\n",
    "        else:\n",
    "            raise NotImplementedError  \n",
    "        ##创建组件\n",
    "\n",
    "        if self.holding_pos_mode == \"net\":\n",
    "            self.state_dim= len(self.indicator_array) + 5\n",
    "        else:\n",
    "            self.state_dim= len(self.indicator_array) + 9\n",
    "            ##component\n",
    "        if self.holding_pos_mode == \"net\":\n",
    "            self.portfolio = NetPortfolioDataStream(self)\n",
    "        else:\n",
    "            self.portfolio = PortfolioDataStream(self)\n",
    "        self.action = ContinueAction(self)\n",
    "        self.observer = Observer(self.state_dim,self.windows_size)\n",
    "        self.rewarder = Reward(reward_mode=self.reward_mode)\n",
    "        self.stopper = Stopper(self.max_allowed_loss)\n",
    "        self.informer = Informer() \n",
    "        self.renderer = BarRenderer()\n",
    "\n",
    "        ##check if min_step is ok\n",
    "        self.indicator_info = np.array([item[self.min_step] for item in self.indicator_array])\n",
    "        while np.isnan(self.indicator_info).any():\n",
    "            self.min_step += 1\n",
    "            self.indicator_info = np.array([item[self.min_step] for item in self.indicator_array])\n",
    "        ##update  to min_step \n",
    "\n",
    "        self.clock_step = self.min_step\n",
    "        self.portfolio.clock_step = self.min_step\n",
    "        self.action.clock_step = self.min_step\n",
    "        self.observer.clock_step = self.min_step\n",
    "        self.rewarder.clock_step = self.min_step\n",
    "        self.stopper.clock_step = self.min_step\n",
    "        self.informer.clock_step = self.min_step\n",
    "        if self.mode == \"bar\":\n",
    "            self.last_price = self.datafeed.close_array[self.clock_step]\n",
    "        elif self.mode == \"tick\":\n",
    "            self.last_price = self.datafeed.last_price_array[self.clock_step]\n",
    "        self.portfolio.occupy_rate = 0 \n",
    "        if self.holding_pos_mode == \"net\":\n",
    "            self.portfolio.pos_occupy_rate = 0\n",
    "            self.portfolio.pos_avgprice = self.last_price \n",
    "            self.pos_info =  np.array([self.portfolio.occupy_rate,\n",
    "            abs(self.portfolio.pos)>self.min_volume,\n",
    "            1.0-self.portfolio.pos_avgprice/self.last_price])\n",
    "        else:\n",
    "            self.portfolio.long_pos_occupy_rate = 0\n",
    "            self.portfolio.short_pos_occupy_rate = 0 \n",
    "            self.portfolio.long_pos_avgprice = self.last_price \n",
    "            self.portfolio.short_pos_avgprice = self.last_price\n",
    "            self.pos_info = np.array([self.portfolio.long_pos_occupy_rate ,\n",
    "                                  self.portfolio.short_pos_occupy_rate,\n",
    "                                  self.portfolio.occupy_rate,     #long+short+locked \n",
    "                                  self.portfolio.long_pos>self.min_volume,\n",
    "                                  self.portfolio.short_pos>self.min_volume,\n",
    "                                  1.0-self.portfolio.long_pos_avgprice/self.last_price,\n",
    "                                  self.portfolio.short_pos_avgprice/self.last_price-1.0])   \n",
    "\n",
    "        self.indicator_info = np.array([item[self.clock_step] for item in self.indicator_array])\n",
    "        ## update info  for agent \n",
    "        self.pos_info = self.pos_info * self.pos_info_scale \n",
    "        self.pos_info = np.hstack([self.pos_info,self.history_action,self.history_pnl])\n",
    "        self.indicator_info = self.indicator_info * self.indicator_info_scale\n",
    "        self.init_observation = self.observer.observe(self.indicator_info,self.pos_info).reshape((-1,)) \n",
    "        \n",
    "        ## update info  for agent \n",
    "        self.observation_space = self.observer.observation_space\n",
    "        self.action_space = self.action.action_space \n",
    "    def load_data(self):\n",
    "        \"\"\"\"\"\"\n",
    "        self.output(\"开始加载历史数据\")\n",
    "\n",
    "        if not self.end:\n",
    "            self.end = datetime.now()\n",
    "\n",
    "        if self.start >= self.end:\n",
    "            self.output(\"起始日期必须小于结束日期\")\n",
    "            return\n",
    "        self.history_data.clear()       # Clear previously loaded history data\n",
    "\n",
    "        # Load 30 days of data each time and allow for progress update\n",
    "        total_days = (self.end - self.start).days\n",
    "        progress_days = max(int(total_days / 10), 1)\n",
    "        progress_delta = timedelta(days=progress_days)\n",
    "        interval_delta = INTERVAL_DELTA_MAP[self.interval]\n",
    "\n",
    "        start = self.start\n",
    "        end = self.start + progress_delta\n",
    "        progress = 0\n",
    "\n",
    "        while start < self.end:\n",
    "            progress_bar = \"#\" * int(progress * 10 + 1)\n",
    "            self.output(f\"加载进度：{progress_bar} [{progress:.0%}]\")\n",
    "\n",
    "            end = min(end, self.end)  # Make sure end time stays within set range\n",
    "\n",
    "            if self.mode == \"bar\":\n",
    "                data = load_bar_data(\n",
    "                    self.symbol,\n",
    "                    self.exchange,\n",
    "                    self.interval,\n",
    "                    start,\n",
    "                    end\n",
    "                )\n",
    "            else:\n",
    "                data = load_tick_data(\n",
    "                    self.symbol,\n",
    "                    self.exchange,\n",
    "                    start,\n",
    "                    end\n",
    "                )\n",
    "\n",
    "            self.history_data.extend(data)\n",
    "\n",
    "            progress += progress_days / total_days\n",
    "            progress = min(progress, 1)\n",
    "\n",
    "            start = end + interval_delta\n",
    "            end += progress_delta\n",
    "\n",
    "        self.output(f\"历史数据加载完成，数据量：{len(self.history_data)}\")\n",
    "\n",
    "    def step(self):\n",
    "         ##create pd\n",
    "        df = pd.DataFrame([])\n",
    "        df[\"time\"]=self.datafeed.datetime_array\n",
    "        df[\"high\"]=self.datafeed.high\n",
    "        df[\"low\"]=self.datafeed.low\n",
    "        df[\"open\"]=self.datafeed.open\n",
    "        df[\"close\"]=self.datafeed.close\n",
    "        df[\"volume\"]=self.datafeed.volume\n",
    "        df[\"atr\"] = self.atr_array \n",
    "        df=self.create_label(df)\n",
    "        for i in range(len(self.indicator_array)):\n",
    "            df[str(i)]=self.indicator_array[i]\n",
    "        return  df\n",
    "        \n",
    "        \n",
    "        \n",
    "    def create_label(self,df):\n",
    "        zigzags = []\n",
    "        ATR_MULTIPILIER=self.boll_dev\n",
    "        def calc_change_since_pivot(row, key):\n",
    "            current = row[key]\n",
    "            last_pivot = zigzags[-1][\"Value\"]\n",
    "            if(last_pivot == 0): last_pivot = 1 ** (-100) # avoid division by 0\n",
    "            perc_change_since_pivot = (current - last_pivot) / abs(last_pivot)\n",
    "            return perc_change_since_pivot\n",
    "\n",
    "        def get_zigzag(row, taip=None):\n",
    "            if(taip == \"Peak\"): key = \"high\"\n",
    "            elif(taip == \"Trough\"): key = \"low\"\n",
    "            else: key = \"close\"\n",
    "\n",
    "            return {\n",
    "                \"Time\": row[\"time\"],\n",
    "                \"Value\": row[key],\n",
    "                \"Type\": taip \n",
    "            }\n",
    "        for ix, row in df.iterrows():\n",
    "            threshold = row['atr'] / row[\"open\"] * ATR_MULTIPILIER\n",
    "            # handle first point\n",
    "            is_starting = ix == 0\n",
    "            if(is_starting):\n",
    "                zigzags.append(get_zigzag(row))\n",
    "                continue\n",
    "\n",
    "            # handle first line\n",
    "            is_first_line = len(zigzags) == 1\n",
    "            if(is_first_line):\n",
    "                perc_change_since_pivot = calc_change_since_pivot(row, \"close\")\n",
    "\n",
    "                if(abs(perc_change_since_pivot) >= threshold):\n",
    "                    if(perc_change_since_pivot > 0):\n",
    "                        zigzags.append(get_zigzag(row, \"Peak\"))\n",
    "                        zigzags[0][\"Type\"] = \"Trough\"\n",
    "                    else: \n",
    "                        zigzags.append(get_zigzag(row, \"Trough\"))\n",
    "                        zigzags[0][\"Type\"] = \"Peak\"\n",
    "                continue\n",
    "    \n",
    "            # handle other lines\n",
    "            is_trough = zigzags[-2][\"Value\"] > zigzags[-1][\"Value\"]\n",
    "            is_ending = ix == len(df.index) - 1\n",
    "            last_pivot = float(zigzags[-1][\"Value\"])\n",
    "            # based on last pivot type, look for reversal or continuation\n",
    "            if(is_trough):\n",
    "                perc_change_since_pivot = calc_change_since_pivot(row, \"high\")\n",
    "                is_reversing = (perc_change_since_pivot >= threshold) or is_ending\n",
    "                is_continuing = row[\"low\"] <= last_pivot\n",
    "                if (is_continuing): \n",
    "                    zigzags[-1] = get_zigzag(row, \"Trough\")\n",
    "                elif (is_reversing): \n",
    "                    zigzags.append(get_zigzag(row, \"Peak\"))\n",
    "            else:\n",
    "                perc_change_since_pivot = calc_change_since_pivot(row, \"low\")\n",
    "                is_reversing = (perc_change_since_pivot <= -threshold) or is_ending\n",
    "                is_continuing = row[\"high\"] >= last_pivot\n",
    "                if(is_continuing): \n",
    "                    zigzags[-1] = get_zigzag(row, \"Peak\")\n",
    "                elif (is_reversing): \n",
    "                    zigzags.append(get_zigzag(row, \"Trough\"))\n",
    "        zigzags = pd.DataFrame(zigzags)\n",
    "        zigzags[\"PrevExt\"] = zigzags.Value.shift(2)\n",
    "        df=zigzags.merge(df,left_on=\"Time\",right_on=\"time\",how=\"right\")\n",
    "        df.Type = df.Type.map({\"Trough\":1,\"Peak\":2})\n",
    "        df.Type=df.Type.replace(np.nan,0)\n",
    "        df[\"PrevExt\"] = df[\"PrevExt\"].fillna(method='ffill')\n",
    "        df[\"target\"] = df[\"PrevExt\"]/df[\"close\"]\n",
    "        return df\n",
    "    def backtest(self):\n",
    "        self.models = [] \n",
    "        self.unit = 0 \n",
    "        self.last_siginal = 0 \n",
    "        for i in range(5):\n",
    "            self.models.append(lgb.Booster(model_file=\"lightgbmeth_\"+str(i)+\".txt\"))\n",
    "        for _ in range(self.min_step,self.max_step-1):\n",
    "            if self.mode == \"bar\":\n",
    "                self.last_price = self.datafeed.close_array[self.clock_step]\n",
    "            elif self.mode == \"tick\":\n",
    "                self.last_price = self.datafeed.last_price_array[self.clock_step]\n",
    "            ## stop profit and loss \n",
    "            if abs(self.portfolio.pos) > self.min_volume:\n",
    "                if  self.portfolio.holding_pnl /self.portfolio.total_margin_occupy > self.profit_stop_rate or \\\n",
    "                    self.portfolio.holding_pnl /self.portfolio.total_margin_occupy < self.loss_stop_rate: \n",
    "                    if self.portfolio.pos >0:\n",
    "                        self.stop_profit_loss_order = \\\n",
    "                        self.action.send_limit_order(\n",
    "                            Direction.SHORT,\n",
    "                            Offset.CLOSE,\n",
    "                            self.last_price,\n",
    "                            abs(self.portfolio.pos))\n",
    "                    elif self.portfolio.pos <0:\n",
    "                        self.stop_profit_loss_order = \\\n",
    "                        self.action.send_limit_order(\n",
    "                            Direction.LONG,\n",
    "                            Offset.CLOSE,\n",
    "                            self.last_price,\n",
    "                            abs(self.portfolio.pos))\n",
    "                    self.portfolio.update_by_create_order(self.stop_profit_loss_order)\n",
    "                if  self.portfolio.holding_pnl /self.portfolio.total_margin_occupy < self.loss_stop_rate: \n",
    "                    if self.portfolio.pos >0:\n",
    "                        self.inverse_order =\\\n",
    "                        self.action.send_limit_order(\n",
    "                            Direction.SHORT,\n",
    "                            Offset.OPEN,\n",
    "                            self.last_price,\n",
    "                            self.unit)\n",
    "                    elif self.portfolio.pos <0:\n",
    "                        self.inverse_order = \\\n",
    "                        self.action.send_limit_order(\n",
    "                            Direction.LONG,\n",
    "                            Offset.OPEN,\n",
    "                            self.last_price,\n",
    "                            self.unit)\n",
    "                        \n",
    "                        \n",
    "             ##compute unit \n",
    "            self.unit = self.portfolio.available*self.available_change_percent*self.MarginLevel/self.atr_array[self.clock_step]\n",
    "           # self.unit = 10\n",
    "            #print(self.portfolio.available)\n",
    "            self.unit = round_to(self.unit*self.min_volume,self.min_volume)\n",
    "            #print(self.unit)\n",
    "            self.indicator_info = np.array([item[self.clock_step] for item in self.indicator_array])\n",
    "            \n",
    "            \n",
    "            self.step_orders = None \n",
    "            self.pos = self.portfolio.pos \n",
    "            if self.last_siginal == 0:\n",
    "                self.step_orders = None \n",
    "            else:\n",
    "                if self.last_predict == 2: ##peak \n",
    "                    if self.sma_array[self.clock_step-1]>self.sma_array[self.clock_step-2] and self.sma_array[self.clock_step-1]>self.sma_array[self.clock_step]:\n",
    "                        if self.pos > self.min_volume:\n",
    "                            self.step_orders.append(self.action.send_limit_order(\n",
    "                                Direction.LONG,\n",
    "                                Offset.CLOSE,\n",
    "                                self.last_price,\n",
    "                                abs(self.pos)))\n",
    "                        self.step_orders.append(self.action.send_limit_order(\n",
    "                                Direction.SHORT,\n",
    "                                Offset.OPEN,\n",
    "                                self.last_price,\n",
    "                                abs(self.unit)))\n",
    "                else:\n",
    "                     if self.sma_array[self.clock_step-1]<self.sma_array[self.clock_step-2] and self.sma_array[self.clock_step-1]<self.sma_array[self.clock_step]:\n",
    "                        if self.pos < -self.min_volume:\n",
    "                            self.step_order.append(self.action.send_limit_order(\n",
    "                                    Direction.SHORT,\n",
    "                                    Offset.CLOSE,\n",
    "                                    self.last_price,\n",
    "                                    abs(self.pos)))\n",
    "                        self.step_order.append(self.action.send_limit_order(\n",
    "                            Direction.LONG,\n",
    "                            Offset.OPEN,\n",
    "                            self.last_price,\n",
    "                            abs(self.unit)))\n",
    "                                \n",
    "                    \n",
    "            \n",
    "            ## update portfolio\n",
    "            if self.step_orders:\n",
    "                for order in self.step_orders:\n",
    "                    self.portfolio.update_by_create_order(order)\n",
    "            self.clock_step += 1 \n",
    "        \n",
    "            ##更新价格\n",
    "            if self.mode == \"bar\":\n",
    "                self.last_price = self.datafeed.close_array[self.clock_step]\n",
    "            elif self.mode == \"tick\":\n",
    "                self.last_price = self.datafeed.last_price_array[self.clock_step]\n",
    "            \n",
    "            if self.mode == \"bar\":\n",
    "                func = self.new_bar\n",
    "            else:\n",
    "                func = self.new_tick\n",
    "            func(self.history_data[self.clock_step])\n",
    "\n",
    "            ##检查爆仓与否并更新收益率等信息，为rewarder和stopper提供信息\n",
    "            self.portfolio.step()\n",
    "                    \n",
    "    \n",
    "    def predict_siginal(self,indicator_info) :\n",
    "        predict=[]\n",
    "        x=indicator_info.reshape(1,-1) \n",
    "        for model in self.models:\n",
    "            predict.append(np.argmax(softmax(model.predict(x))))\n",
    "        \n",
    "        return  np.argmax(np.bincount(predict))\n",
    "    def new_bar(self, bar: BarData):\n",
    "        \"\"\"\n",
    "        撮合订单，并更新portfolio\n",
    "        \"\"\"\n",
    "        self.bar = bar\n",
    "        self.datetime = bar.datetime\n",
    "\n",
    "        self.cross_limit_order()\n",
    "        self.cross_stop_order()\n",
    "       \n",
    "\n",
    "    def new_tick(self, tick: TickData):\n",
    "        \"\"\"\n",
    "        撮合订单，并更新portfolio\n",
    "        \"\"\"\n",
    "        self.tick = tick\n",
    "        self.datetime = tick.datetime\n",
    "\n",
    "        self.cross_limit_order()\n",
    "        self.cross_stop_order()\n",
    "    def cross_limit_order(self):\n",
    "        \"\"\"\n",
    "        Cross limit order with last bar/tick data.\n",
    "        \"\"\"\n",
    "        if self.mode == \"bar\":\n",
    "            long_cross_price = self.bar.low_price\n",
    "            short_cross_price = self.bar.high_price\n",
    "            long_best_price = self.bar.open_price\n",
    "            short_best_price = self.bar.open_price\n",
    "        else:\n",
    "            long_cross_price = self.tick.ask_price_1\n",
    "            short_cross_price = self.tick.bid_price_1\n",
    "            long_best_price = long_cross_price\n",
    "            short_best_price = short_cross_price\n",
    "\n",
    "        for order in list(self.active_limit_orders.values()):\n",
    "            # Push order update with status \"not traded\" (pending).\n",
    "            if order.status == Status.SUBMITTING:\n",
    "                order.status = Status.NOTTRADED\n",
    "\n",
    "            # Check whether limit orders can be filled.\n",
    "            long_cross = (\n",
    "                order.direction == Direction.LONG\n",
    "                and order.price >= long_cross_price\n",
    "                and long_cross_price > 0\n",
    "            )\n",
    "\n",
    "            short_cross = (\n",
    "                order.direction == Direction.SHORT\n",
    "                and order.price <= short_cross_price\n",
    "                and short_cross_price > 0\n",
    "            )\n",
    "\n",
    "            if not long_cross and not short_cross:\n",
    "                continue\n",
    "\n",
    "            # Push order udpate with status \"all traded\" (filled).\n",
    "            order.traded = order.volume\n",
    "            order.status = Status.ALLTRADED\n",
    "\n",
    "\n",
    "            if order.vt_orderid in self.active_limit_orders:\n",
    "                self.active_limit_orders.pop(order.vt_orderid)\n",
    "\n",
    "\n",
    "            if long_cross:\n",
    "                trade_price = min(order.price, long_best_price)\n",
    "                pos_change = order.volume\n",
    "            else:\n",
    "                trade_price = max(order.price, short_best_price)\n",
    "                pos_change = -order.volume\n",
    "\n",
    "            trade = TradeData(\n",
    "                symbol=order.symbol,\n",
    "                exchange=order.exchange,\n",
    "                orderid=order.orderid,\n",
    "                tradeid=str(self.trade_count),\n",
    "                direction=order.direction,\n",
    "                offset=order.offset,\n",
    "                price=trade_price,\n",
    "                volume=order.volume,\n",
    "                datetime=self.datetime,\n",
    "                gateway_name=self.gateway_name,\n",
    "            )\n",
    "\n",
    "            if self.update_portfolio(trade): ##检查trade有效性，如果有效则更新portfolio\n",
    "                self.trade_count += 1\n",
    "                self.trades[trade.vt_tradeid] = trade\n",
    "\n",
    "    def cross_stop_order(self):\n",
    "        \"\"\"\n",
    "        Cross stop order with last bar/tick data.\n",
    "        \"\"\"\n",
    "        if self.mode == \"bar\":\n",
    "            long_cross_price = self.bar.high_price\n",
    "            short_cross_price = self.bar.low_price\n",
    "            long_best_price = self.bar.open_price\n",
    "            short_best_price = self.bar.open_price\n",
    "        else:\n",
    "            long_cross_price = self.tick.last_price\n",
    "            short_cross_price = self.tick.last_price\n",
    "            long_best_price = long_cross_price\n",
    "            short_best_price = short_cross_price\n",
    "\n",
    "        for stop_order in list(self.active_stop_orders.values()):\n",
    "            # Check whether stop order can be triggered.\n",
    "            long_cross = (\n",
    "                stop_order.direction == Direction.LONG\n",
    "                and stop_order.price <= long_cross_price\n",
    "            )\n",
    "\n",
    "            short_cross = (\n",
    "                stop_order.direction == Direction.SHORT\n",
    "                and stop_order.price >= short_cross_price\n",
    "            )\n",
    "\n",
    "            if not long_cross and not short_cross:\n",
    "                continue\n",
    "\n",
    "            # Create order data.\n",
    "            self.limit_order_count += 1\n",
    "\n",
    "            order = OrderData(\n",
    "                symbol=self.symbol,\n",
    "                exchange=self.exchange,\n",
    "                orderid=str(self.limit_order_count),\n",
    "                direction=stop_order.direction,\n",
    "                offset=stop_order.offset,\n",
    "                price=stop_order.price,\n",
    "                volume=stop_order.volume,\n",
    "                traded=stop_order.volume,\n",
    "                status=Status.ALLTRADED,\n",
    "                gateway_name=self.gateway_name,\n",
    "                datetime=self.datetime\n",
    "            )\n",
    "\n",
    "            self.limit_orders[order.vt_orderid] = order\n",
    "\n",
    "            # Create trade data.\n",
    "            if long_cross:\n",
    "                trade_price = max(stop_order.price, long_best_price)\n",
    "                pos_change = order.volume\n",
    "            else:\n",
    "                trade_price = min(stop_order.price, short_best_price)\n",
    "                pos_change = -order.volume\n",
    "\n",
    "\n",
    "            trade = TradeData(\n",
    "                symbol=order.symbol,\n",
    "                exchange=order.exchange,\n",
    "                orderid=order.orderid,\n",
    "                tradeid=str(self.trade_count),\n",
    "                direction=order.direction,\n",
    "                offset=order.offset,\n",
    "                price=trade_price,\n",
    "                volume=order.volume,\n",
    "                datetime=self.datetime,\n",
    "                gateway_name=self.gateway_name,\n",
    "            )\n",
    "\n",
    "\n",
    "            # Update stop order.\n",
    "            stop_order.vt_orderids.append(order.vt_orderid)\n",
    "            stop_order.status = StopOrderStatus.TRIGGERED\n",
    "\n",
    "            if stop_order.stop_orderid in self.active_stop_orders:\n",
    "                self.active_stop_orders.pop(stop_order.stop_orderid)\n",
    "\n",
    "\n",
    "            if self.update_portfolio(trade): ##检查trade有效性，如果有效则更新portfolio\n",
    "                self.trade_count += 1\n",
    "                self.trades[trade.vt_tradeid] = trade\n",
    "    def update_portfolio(self,trade):\n",
    "        '''\n",
    "        检查trade有效性，并更新portfolio\n",
    "        '''\n",
    "        ##限制一下trade_volume 小数点计算问题\n",
    "        if trade.offset == Offset.CLOSE:\n",
    "            if self.holding_pos_mode == \"net\":\n",
    "                trade.volume = min(trade.volume,abs(self.portfolio.pos))\n",
    "            else:\n",
    "                if trade.direction == Direction.LONG: \n",
    "                    trade.volume = min(trade.volume,self.portfolio.short_pos)\n",
    "                ##平多\n",
    "                elif trade.direction == Direction.SHORT:\n",
    "                    trade.volume = min(trade.volume,self.portfolio.long_pos)\n",
    "        trade_effect = True \n",
    "        self.portfolio.update_by_trade(trade)\n",
    "        return trade_effect\n",
    "                                \n",
    "    def reset(self):\n",
    "        \"\"\"\n",
    "        reset variables and start another backtesting\n",
    "        \"\"\"\n",
    "        self.episode_id = str(uuid.uuid4())\n",
    "        self.clock_step = 0 \n",
    "        self.tick: TickData\n",
    "        self.bar: BarData\n",
    "        self.datetime = None\n",
    "        self.last_price = 60000   \n",
    "        #history \n",
    "        self.history_action = [0]\n",
    "        self.history_pnl = [0] \n",
    "\n",
    "        self.stop_order_count = 0\n",
    "        self.stop_orders = {}\n",
    "        self.active_stop_orders = {}\n",
    "\n",
    "        self.limit_order_count = 0\n",
    "        self.limit_orders = {}\n",
    "        self.active_limit_orders = {}\n",
    "\n",
    "        self.trade_count = 0\n",
    "        self.trades = OrderedDict()\n",
    "\n",
    "        self.portfolio.reset()\n",
    "        self.action.reset()\n",
    "        self.observer.reset()\n",
    "        self.rewarder.reset()\n",
    "        self.stopper.reset()\n",
    "        self.informer.reset()\n",
    "        self.renderer.reset()\n",
    "\n",
    "        \n",
    "        self.clock_step = self.min_step\n",
    "        self.portfolio.clock_step = self.min_step\n",
    "        self.action.clock_step = self.min_step\n",
    "        self.observer.clock_step = self.min_step\n",
    "        self.rewarder.clock_step = self.min_step\n",
    "        self.stopper.clock_step = self.min_step\n",
    "        self.informer.clock_step = self.min_step\n",
    "        if self.mode == \"bar\":\n",
    "            self.last_price = self.datafeed.close_array[self.clock_step]\n",
    "        elif self.mode == \"tick\":\n",
    "            self.last_price = self.datafeed.last_price_array[self.clock_step]\n",
    "        self.portfolio.occupy_rate = 0 \n",
    "        if self.holding_pos_mode == \"net\":\n",
    "            self.portfolio.pos_occupy_rate = 0\n",
    "            self.portfolio.pos_avgprice = self.last_price \n",
    "            self.pos_info =  np.array([self.portfolio.occupy_rate,\n",
    "            abs(self.portfolio.pos)>self.min_volume,\n",
    "            1.0-self.portfolio.pos_avgprice/self.last_price])\n",
    "        else:\n",
    "            self.portfolio.long_pos_occupy_rate = 0\n",
    "            self.portfolio.short_pos_occupy_rate = 0 \n",
    "            self.portfolio.long_pos_avgprice = self.last_price \n",
    "            self.portfolio.short_pos_avgprice = self.last_price\n",
    "            self.pos_info = np.array([self.portfolio.long_pos_occupy_rate ,\n",
    "                                  self.portfolio.short_pos_occupy_rate,\n",
    "                                  self.portfolio.occupy_rate,     #long+short+locked \n",
    "                                  self.portfolio.long_pos>self.min_volume,\n",
    "                                  self.portfolio.short_pos>self.min_volume,\n",
    "                                  1.0-self.portfolio.long_pos_avgprice/self.last_price,\n",
    "                                  self.portfolio.short_pos_avgprice/self.last_price-1.0])  \n",
    "        self.indicator_info = np.array([item[self.clock_step] for item in self.indicator_array])\n",
    "        ## update info  for agent \n",
    "        self.pos_info = self.pos_info * self.pos_info_scale \n",
    "        self.pos_info = np.hstack([self.pos_info,self.history_action,self.history_pnl])\n",
    "        self.indicator_info = self.indicator_info * self.indicator_info_scale\n",
    "        self.init_observation = self.observer.observe(self.indicator_info,self.pos_info).reshape((-1,)) \n",
    "        ## update info  for agent \n",
    "        self.action_space = self.action.action_space \n",
    "        ## 返回开始计算的min_step时刻Observe的状态\n",
    "        return self.init_observation\n",
    "\n",
    "    def render(self, **kwargs) -> None:\n",
    "        \"\"\"Renders the environment.\"\"\"\n",
    "        self.renderer.render(self, **kwargs)\n",
    "\n",
    "    def save(self) -> None:\n",
    "        \"\"\"Saves the rendered view of the environment.\"\"\"\n",
    "        self.renderer.save()\n",
    "\n",
    "    def close(self) -> None:\n",
    "        \"\"\"Closes the environment.\"\"\"\n",
    "        self.renderer.close()\n",
    "    def output(self, msg) -> None:\n",
    "        \"\"\"\n",
    "        Output message of backtesting engine.\n",
    "        \"\"\"\n",
    "        print(f\"{datetime.now()}\\t{msg}\") \n",
    "@lru_cache(maxsize=999)\n",
    "def load_bar_data(\n",
    "    symbol: str,\n",
    "    exchange: Exchange,\n",
    "    interval: Interval,\n",
    "    start: datetime,\n",
    "    end: datetime\n",
    "):\n",
    "    \"\"\"\"\"\"\n",
    "    database = get_database()\n",
    "\n",
    "    return database.load_bar_data(\n",
    "        symbol, exchange, interval, start, end\n",
    "    )\n",
    "\n",
    "\n",
    "@lru_cache(maxsize=999)\n",
    "def load_tick_data(\n",
    "    symbol: str,\n",
    "    exchange: Exchange,\n",
    "    start: datetime,\n",
    "    end: datetime\n",
    "):\n",
    "    \"\"\"\"\"\"\n",
    "    database = get_database()\n",
    "\n",
    "    return database.load_tick_data(\n",
    "        symbol, exchange, start, end\n",
    "    )\n",
    "\n"
   ]
  },
  {
   "cell_type": "code",
   "execution_count": 2,
   "id": "cbbadab6-fcc0-453e-ad7e-4af4b39e4bfc",
   "metadata": {
    "gradient": {
     "editing": false,
     "execution_count": 7,
     "id": "cbbadab6-fcc0-453e-ad7e-4af4b39e4bfc",
     "kernelId": "56be0568-28a5-44c4-ba07-cc6d8ff4a37c"
    }
   },
   "outputs": [],
   "source": [
    "\n",
    "\n",
    "test_env= ContinueEnv()\n",
    "config={\n",
    "    \"gateway_name\":\"CryptoContinue\",\n",
    "    'mode':\"bar\",\n",
    "    \"vt_symbol\":\"ETHUSDT.BINANCE\",\n",
    "    \"interval\":\"1m\",\n",
    "    \"symbol\": \"ETHUSDT\",\n",
    "    \"exchange\":Exchange.BINANCE,\n",
    "    \"min_step\":100,\n",
    "    \"start\":datetime(2021,5,1),\n",
    "    \"end\":datetime(2022, 1, 7),\n",
    "    \"MarginLevel\":20,\n",
    "    \"risk_free\":0,\n",
    "    \"capital\":100,\n",
    "    \"commission_rate\":0.0004,\n",
    "    \"slippage_rate\":0,\n",
    "    \"pricetick\": 0.01,\n",
    "    \"min_volume\":0.001,\n",
    "    \"min_trade_balance\":5,\n",
    "    \"limit_total_margin_rate\":0.3,\n",
    "    \"available_change_percent\":0.05,\n",
    "    \"skip_mode\":\"\",\n",
    "    \"sma_window\":5,\n",
    "    \"atr_window\":20,\n",
    "    \"boll_window\":20,\n",
    "    \"boll_dev\":1.8,\n",
    "    \"holding_pos_mode\":\"net\",\n",
    "    \"use_stop\":False,\n",
    "    \"pos_info_scale \":1,\n",
    "    \"indicator_info_scale\":1,\n",
    "    \"history_action_scale \":1,\n",
    "    \"history_pnl_scale\":1,\n",
    "    \"windows_size\": 1,\n",
    "    \"indicator_windows_list\":[6,36,192,720],\n",
    "    \"lag_window\":20,\n",
    "    \"extra_reward\":0,\n",
    "    \"reward_mode\":'differential_sharpe_ratio',\n",
    "    \"max_allowed_loss\":0.5,\n",
    "    \n",
    "    \"loss_stop_rate\":-0.2,\n",
    "    ##DQN params \n",
    "    \"learning_rate\":2**-15,\n",
    "    \"batch_size\": 2**11,\n",
    "    \"gamma\":  0.97,\n",
    "    \"seed\":312,\n",
    "    \"net_dim\": 2**9,\n",
    "    \"worker_num\":4,\n",
    "    \"threshold\":0.5,\n",
    "    \"reward_scale\":1,\n",
    "    \"target_step\": 10000, #collect target_step, then update network\n",
    "    \"eval_gap\": 30  #used for evaluate, evaluate the agent per eval_gap seconds\n",
    "}\n"
   ]
  },
  {
   "cell_type": "code",
   "execution_count": 3,
   "id": "c4051038-bf2f-42f1-b8a6-b5332c1da5c2",
   "metadata": {
    "gradient": {
     "editing": false,
     "execution_count": 4,
     "id": "c4051038-bf2f-42f1-b8a6-b5332c1da5c2",
     "kernelId": "56be0568-28a5-44c4-ba07-cc6d8ff4a37c"
    }
   },
   "outputs": [
    {
     "name": "stdout",
     "output_type": "stream",
     "text": [
      "2022-01-07 21:28:52.913415\t开始加载历史数据\n",
      "2022-01-07 21:28:52.913958\t加载进度：# [0%]\n",
      "2022-01-07 21:28:55.539162\t加载进度：# [10%]\n",
      "2022-01-07 21:28:58.192996\t加载进度：## [20%]\n",
      "2022-01-07 21:29:00.924358\t加载进度：### [30%]\n",
      "2022-01-07 21:29:03.779106\t加载进度：#### [40%]\n",
      "2022-01-07 21:29:06.448786\t加载进度：##### [50%]\n",
      "2022-01-07 21:29:09.235137\t加载进度：###### [60%]\n",
      "2022-01-07 21:29:12.049421\t加载进度：####### [70%]\n",
      "2022-01-07 21:29:14.858296\t加载进度：######## [80%]\n",
      "2022-01-07 21:29:17.689545\t加载进度：######### [90%]\n",
      "2022-01-07 21:29:20.103928\t加载进度：########## [100%]\n",
      "2022-01-07 21:29:20.206525\t历史数据加载完成，数据量：361441\n"
     ]
    }
   ],
   "source": [
    "test_env.on_init(**config)"
   ]
  },
  {
   "cell_type": "code",
   "execution_count": 25,
   "id": "34dc7191-d509-49c2-a31c-38858243e2e0",
   "metadata": {
    "gradient": {
     "editing": false,
     "id": "34dc7191-d509-49c2-a31c-38858243e2e0",
     "kernelId": "56be0568-28a5-44c4-ba07-cc6d8ff4a37c"
    }
   },
   "outputs": [
    {
     "name": "stdout",
     "output_type": "stream",
     "text": [
      "0.3105509887737204\n",
      "1.777833272709917e+27\n",
      "0.1408748053374032\n",
      "3.1901497601626052e+25\n",
      "0.14352591533941242\n",
      "1.9051808260037942e+22\n",
      "0.35755288858777606\n",
      "2.112089469781735e+35\n",
      "0.35755288858777806\n",
      "3.693966458314743e+35\n"
     ]
    }
   ],
   "source": [
    "loss_per =[-0.1,-0.13,-0.15,-0.18,-0.2]\n",
    "max_down_list = []\n",
    "for rate in loss_per:\n",
    "    test_env.loss_stop_rate = rate\n",
    "    test_env.backtest() \n",
    "    max_down_list.append(test_env.portfolio.max_drawdown_rate )\n",
    "    print(test_env.portfolio.max_drawdown_rate)\n",
    "    print(test_env.portfolio.total_pnl_rate)\n",
    "    test_env.reset()"
   ]
  },
  {
   "cell_type": "code",
   "execution_count": 26,
   "id": "6808bad7-84cf-44d5-8597-f0e63056a6a0",
   "metadata": {},
   "outputs": [
    {
     "data": {
      "text/plain": [
       "OrderedDict()"
      ]
     },
     "execution_count": 26,
     "metadata": {},
     "output_type": "execute_result"
    }
   ],
   "source": [
    "test_env.trades"
   ]
  },
  {
   "cell_type": "code",
   "execution_count": 58,
   "id": "87989edf-b4e8-40f7-aa69-eb7230b7150a",
   "metadata": {},
   "outputs": [
    {
     "data": {
      "text/plain": [
       "0.017"
      ]
     },
     "execution_count": 58,
     "metadata": {},
     "output_type": "execute_result"
    }
   ],
   "source": [
    "round_to(17.059*0.001,0.001)"
   ]
  },
  {
   "cell_type": "code",
   "execution_count": 24,
   "id": "e7bb5128-cd1a-4389-8d3c-abb13e7380e5",
   "metadata": {
    "gradient": {
     "editing": false,
     "id": "e7bb5128-cd1a-4389-8d3c-abb13e7380e5",
     "kernelId": "56be0568-28a5-44c4-ba07-cc6d8ff4a37c"
    }
   },
   "outputs": [
    {
     "data": {
      "text/plain": [
       "array([ 9.81481819e-04,  3.38457400e-05,  4.36431911e-05,  1.60321926e-05,\n",
       "        2.53843050e-05,  3.54881672e-04,  5.15702197e-04,  2.03074440e-04,\n",
       "        2.67203211e-06, -1.87042248e-05,  1.85564165e-02,  1.57668213e-02,\n",
       "        5.57515116e-03,  4.44272873e-04,  4.42486498e+01,  3.13821340e+01,\n",
       "       -8.73130728e+01,  4.97061466e+01,  5.44236599e+01,  4.43905460e+01,\n",
       "        5.44158001e+01,  2.82527881e+01,  4.43905460e+01,  4.26090838e+00,\n",
       "        4.26090838e+00,  5.38775767e-01,  3.46845586e-01,  7.40817392e-01,\n",
       "        2.59182608e-01,  4.81634784e-01, -3.14520446e-05, -3.43467460e-05,\n",
       "       -3.78537882e-05, -3.31220647e-05,  4.94919378e-04,  3.34004013e-03,\n",
       "        6.78696155e-04, -2.64531179e-04, -2.41017296e-03, -1.89846309e-02,\n",
       "       -5.68286211e-02,  6.77527236e-03,  6.02366459e-03,  9.89522581e+00,\n",
       "        9.33403232e+00, -1.05129076e+02,  3.91878728e+01,  3.81232010e+01,\n",
       "        3.34050928e+01,  6.22367053e+01,  1.68882979e+01,  3.34050928e+01,\n",
       "        2.20097923e+01,  1.60981497e+01,  4.59278021e-01, -1.03784717e-01,\n",
       "        4.96804704e-01,  5.03195296e-01, -6.39059141e-03,  9.04594203e-07,\n",
       "        3.01995295e-06,  6.68008027e-07,  2.11535875e-06,  5.95615402e-04,\n",
       "        7.15570198e-03,  1.62726755e-03, -1.31463980e-03, -4.77759341e-03,\n",
       "       -1.14261177e-02, -4.19369932e-02,  6.25815736e-03,  2.67837776e-02,\n",
       "        5.16503326e+00,  4.69318293e+00, -7.37517095e+01,  5.00081608e+01,\n",
       "        5.29587100e+01,  3.76755005e+01,  5.03168108e+01,  1.85275327e+01,\n",
       "        3.76755005e+01,  1.52680342e+01,  3.50576069e+01,  4.95820665e-01,\n",
       "        8.93349862e-02,  5.01024727e-01,  4.98975273e-01,  2.04945379e-03,\n",
       "       -7.11428549e-06, -8.85110635e-06, -9.01439721e-06, -7.36664407e-06,\n",
       "        7.32736861e-04,  7.35610439e-03,  7.47901787e-03, -6.24186700e-03,\n",
       "       -6.60793540e-03, -1.94866255e-03, -1.08976198e-01,  6.23416406e-03,\n",
       "        1.23059554e-01,  2.03972529e+00,  1.74420192e+00, -3.38577590e+01,\n",
       "        4.76506924e+01,  4.63770982e+01,  5.03203519e+01,  4.72297466e+01,\n",
       "        5.04142651e+01,  5.03203519e+01,  2.50458928e+01,  5.85033873e+01,\n",
       "        5.05124404e-01, -6.56348635e-03,  4.97719262e-01,  5.02280738e-01,\n",
       "       -4.56147526e-03, -1.06881284e-05,  2.67203211e-06, -1.84370215e-04,\n",
       "        2.22905000e+02,  0.00000000e+00,  0.00000000e+00,  0.00000000e+00,\n",
       "        0.00000000e+00,  0.00000000e+00])"
      ]
     },
     "execution_count": 24,
     "metadata": {},
     "output_type": "execute_result"
    }
   ],
   "source": [
    "  test_env.reset()"
   ]
  },
  {
   "cell_type": "code",
   "execution_count": 22,
   "id": "84fa4d7c-42fa-4e97-add4-c113e8b8da38",
   "metadata": {
    "gradient": {
     "editing": false,
     "id": "84fa4d7c-42fa-4e97-add4-c113e8b8da38",
     "kernelId": "56be0568-28a5-44c4-ba07-cc6d8ff4a37c"
    }
   },
   "outputs": [
    {
     "name": "stdout",
     "output_type": "stream",
     "text": [
      "0.1408748053374032\n",
      "3.1901497601626052e+25\n",
      "0.1408748053374032\n",
      "3.1901497601626052e+25\n",
      "0.1408748053374032\n",
      "3.1901497601626052e+25\n"
     ]
    },
    {
     "ename": "KeyboardInterrupt",
     "evalue": "",
     "output_type": "error",
     "traceback": [
      "\u001b[0;31m---------------------------------------------------------------------------\u001b[0m",
      "\u001b[0;31mKeyboardInterrupt\u001b[0m                         Traceback (most recent call last)",
      "\u001b[0;32m<ipython-input-22-497971983c96>\u001b[0m in \u001b[0;36m<module>\u001b[0;34m\u001b[0m\n\u001b[1;32m      5\u001b[0m     \u001b[0mtest_env\u001b[0m\u001b[0;34m.\u001b[0m\u001b[0mloss_stop_rate\u001b[0m \u001b[0;34m=\u001b[0m \u001b[0;34m-\u001b[0m\u001b[0;36m0.13\u001b[0m\u001b[0;34m\u001b[0m\u001b[0;34m\u001b[0m\u001b[0m\n\u001b[1;32m      6\u001b[0m     \u001b[0mtest_env\u001b[0m\u001b[0;34m.\u001b[0m\u001b[0mprofit_stop_rate\u001b[0m \u001b[0;34m=\u001b[0m \u001b[0mprofit_stop_rate\u001b[0m\u001b[0;34m\u001b[0m\u001b[0;34m\u001b[0m\u001b[0m\n\u001b[0;32m----> 7\u001b[0;31m     \u001b[0mtest_env\u001b[0m\u001b[0;34m.\u001b[0m\u001b[0mbacktest\u001b[0m\u001b[0;34m(\u001b[0m\u001b[0;34m)\u001b[0m\u001b[0;34m\u001b[0m\u001b[0;34m\u001b[0m\u001b[0m\n\u001b[0m\u001b[1;32m      8\u001b[0m     \u001b[0mmax_down_list\u001b[0m\u001b[0;34m.\u001b[0m\u001b[0mappend\u001b[0m\u001b[0;34m(\u001b[0m\u001b[0mtest_env\u001b[0m\u001b[0;34m.\u001b[0m\u001b[0mportfolio\u001b[0m\u001b[0;34m.\u001b[0m\u001b[0mmax_drawdown_rate\u001b[0m \u001b[0;34m)\u001b[0m\u001b[0;34m\u001b[0m\u001b[0;34m\u001b[0m\u001b[0m\n\u001b[1;32m      9\u001b[0m     \u001b[0mprint\u001b[0m\u001b[0;34m(\u001b[0m\u001b[0mtest_env\u001b[0m\u001b[0;34m.\u001b[0m\u001b[0mportfolio\u001b[0m\u001b[0;34m.\u001b[0m\u001b[0mmax_drawdown_rate\u001b[0m\u001b[0;34m)\u001b[0m\u001b[0;34m\u001b[0m\u001b[0;34m\u001b[0m\u001b[0m\n",
      "\u001b[0;32m<ipython-input-17-ef0cc87f2a0d>\u001b[0m in \u001b[0;36mbacktest\u001b[0;34m(self)\u001b[0m\n\u001b[1;32m    402\u001b[0m             \u001b[0;31m#print(self.unit)\u001b[0m\u001b[0;34m\u001b[0m\u001b[0;34m\u001b[0m\u001b[0;34m\u001b[0m\u001b[0m\n\u001b[1;32m    403\u001b[0m             \u001b[0mself\u001b[0m\u001b[0;34m.\u001b[0m\u001b[0mindicator_info\u001b[0m \u001b[0;34m=\u001b[0m \u001b[0mnp\u001b[0m\u001b[0;34m.\u001b[0m\u001b[0marray\u001b[0m\u001b[0;34m(\u001b[0m\u001b[0;34m[\u001b[0m\u001b[0mitem\u001b[0m\u001b[0;34m[\u001b[0m\u001b[0mself\u001b[0m\u001b[0;34m.\u001b[0m\u001b[0mclock_step\u001b[0m\u001b[0;34m]\u001b[0m \u001b[0;32mfor\u001b[0m \u001b[0mitem\u001b[0m \u001b[0;32min\u001b[0m \u001b[0mself\u001b[0m\u001b[0;34m.\u001b[0m\u001b[0mindicator_array\u001b[0m\u001b[0;34m]\u001b[0m\u001b[0;34m)\u001b[0m\u001b[0;34m\u001b[0m\u001b[0;34m\u001b[0m\u001b[0m\n\u001b[0;32m--> 404\u001b[0;31m             \u001b[0mpredict\u001b[0m \u001b[0;34m=\u001b[0m\u001b[0mself\u001b[0m\u001b[0;34m.\u001b[0m\u001b[0mpredict_siginal\u001b[0m\u001b[0;34m(\u001b[0m\u001b[0mself\u001b[0m\u001b[0;34m.\u001b[0m\u001b[0mindicator_info\u001b[0m\u001b[0;34m)\u001b[0m\u001b[0;34m\u001b[0m\u001b[0;34m\u001b[0m\u001b[0m\n\u001b[0m\u001b[1;32m    405\u001b[0m \u001b[0;34m\u001b[0m\u001b[0m\n\u001b[1;32m    406\u001b[0m             \u001b[0mself\u001b[0m\u001b[0;34m.\u001b[0m\u001b[0mpos\u001b[0m \u001b[0;34m=\u001b[0m \u001b[0mself\u001b[0m\u001b[0;34m.\u001b[0m\u001b[0mportfolio\u001b[0m\u001b[0;34m.\u001b[0m\u001b[0mpos\u001b[0m\u001b[0;34m\u001b[0m\u001b[0;34m\u001b[0m\u001b[0m\n",
      "\u001b[0;32m<ipython-input-17-ef0cc87f2a0d>\u001b[0m in \u001b[0;36mpredict_siginal\u001b[0;34m(self, indicator_info)\u001b[0m\n\u001b[1;32m    473\u001b[0m         \u001b[0mx\u001b[0m\u001b[0;34m=\u001b[0m\u001b[0mindicator_info\u001b[0m\u001b[0;34m.\u001b[0m\u001b[0mreshape\u001b[0m\u001b[0;34m(\u001b[0m\u001b[0;36m1\u001b[0m\u001b[0;34m,\u001b[0m\u001b[0;34m-\u001b[0m\u001b[0;36m1\u001b[0m\u001b[0;34m)\u001b[0m\u001b[0;34m\u001b[0m\u001b[0;34m\u001b[0m\u001b[0m\n\u001b[1;32m    474\u001b[0m         \u001b[0;32mfor\u001b[0m \u001b[0mmodel\u001b[0m \u001b[0;32min\u001b[0m \u001b[0mself\u001b[0m\u001b[0;34m.\u001b[0m\u001b[0mmodels\u001b[0m\u001b[0;34m:\u001b[0m\u001b[0;34m\u001b[0m\u001b[0;34m\u001b[0m\u001b[0m\n\u001b[0;32m--> 475\u001b[0;31m             \u001b[0mpredict\u001b[0m\u001b[0;34m.\u001b[0m\u001b[0mappend\u001b[0m\u001b[0;34m(\u001b[0m\u001b[0mnp\u001b[0m\u001b[0;34m.\u001b[0m\u001b[0margmax\u001b[0m\u001b[0;34m(\u001b[0m\u001b[0msoftmax\u001b[0m\u001b[0;34m(\u001b[0m\u001b[0mmodel\u001b[0m\u001b[0;34m.\u001b[0m\u001b[0mpredict\u001b[0m\u001b[0;34m(\u001b[0m\u001b[0mx\u001b[0m\u001b[0;34m)\u001b[0m\u001b[0;34m)\u001b[0m\u001b[0;34m)\u001b[0m\u001b[0;34m)\u001b[0m\u001b[0;34m\u001b[0m\u001b[0;34m\u001b[0m\u001b[0m\n\u001b[0m\u001b[1;32m    476\u001b[0m \u001b[0;34m\u001b[0m\u001b[0m\n\u001b[1;32m    477\u001b[0m         \u001b[0;32mreturn\u001b[0m  \u001b[0mnp\u001b[0m\u001b[0;34m.\u001b[0m\u001b[0margmax\u001b[0m\u001b[0;34m(\u001b[0m\u001b[0mnp\u001b[0m\u001b[0;34m.\u001b[0m\u001b[0mbincount\u001b[0m\u001b[0;34m(\u001b[0m\u001b[0mpredict\u001b[0m\u001b[0;34m)\u001b[0m\u001b[0;34m)\u001b[0m\u001b[0;34m\u001b[0m\u001b[0;34m\u001b[0m\u001b[0m\n",
      "\u001b[0;32m/usr/local/lib/python3.6/dist-packages/lightgbm/basic.py\u001b[0m in \u001b[0;36mpredict\u001b[0;34m(self, data, start_iteration, num_iteration, raw_score, pred_leaf, pred_contrib, data_has_header, is_reshape, **kwargs)\u001b[0m\n\u001b[1;32m   3538\u001b[0m         return predictor.predict(data, start_iteration, num_iteration,\n\u001b[1;32m   3539\u001b[0m                                  \u001b[0mraw_score\u001b[0m\u001b[0;34m,\u001b[0m \u001b[0mpred_leaf\u001b[0m\u001b[0;34m,\u001b[0m \u001b[0mpred_contrib\u001b[0m\u001b[0;34m,\u001b[0m\u001b[0;34m\u001b[0m\u001b[0;34m\u001b[0m\u001b[0m\n\u001b[0;32m-> 3540\u001b[0;31m                                  data_has_header, is_reshape)\n\u001b[0m\u001b[1;32m   3541\u001b[0m \u001b[0;34m\u001b[0m\u001b[0m\n\u001b[1;32m   3542\u001b[0m     \u001b[0;32mdef\u001b[0m \u001b[0mrefit\u001b[0m\u001b[0;34m(\u001b[0m\u001b[0mself\u001b[0m\u001b[0;34m,\u001b[0m \u001b[0mdata\u001b[0m\u001b[0;34m,\u001b[0m \u001b[0mlabel\u001b[0m\u001b[0;34m,\u001b[0m \u001b[0mdecay_rate\u001b[0m\u001b[0;34m=\u001b[0m\u001b[0;36m0.9\u001b[0m\u001b[0;34m,\u001b[0m \u001b[0;34m**\u001b[0m\u001b[0mkwargs\u001b[0m\u001b[0;34m)\u001b[0m\u001b[0;34m:\u001b[0m\u001b[0;34m\u001b[0m\u001b[0;34m\u001b[0m\u001b[0m\n",
      "\u001b[0;32m/usr/local/lib/python3.6/dist-packages/lightgbm/basic.py\u001b[0m in \u001b[0;36mpredict\u001b[0;34m(self, data, start_iteration, num_iteration, raw_score, pred_leaf, pred_contrib, data_has_header, is_reshape)\u001b[0m\n\u001b[1;32m    846\u001b[0m             \u001b[0mpreds\u001b[0m\u001b[0;34m,\u001b[0m \u001b[0mnrow\u001b[0m \u001b[0;34m=\u001b[0m \u001b[0mself\u001b[0m\u001b[0;34m.\u001b[0m\u001b[0m__pred_for_csc\u001b[0m\u001b[0;34m(\u001b[0m\u001b[0mdata\u001b[0m\u001b[0;34m,\u001b[0m \u001b[0mstart_iteration\u001b[0m\u001b[0;34m,\u001b[0m \u001b[0mnum_iteration\u001b[0m\u001b[0;34m,\u001b[0m \u001b[0mpredict_type\u001b[0m\u001b[0;34m)\u001b[0m\u001b[0;34m\u001b[0m\u001b[0;34m\u001b[0m\u001b[0m\n\u001b[1;32m    847\u001b[0m         \u001b[0;32melif\u001b[0m \u001b[0misinstance\u001b[0m\u001b[0;34m(\u001b[0m\u001b[0mdata\u001b[0m\u001b[0;34m,\u001b[0m \u001b[0mnp\u001b[0m\u001b[0;34m.\u001b[0m\u001b[0mndarray\u001b[0m\u001b[0;34m)\u001b[0m\u001b[0;34m:\u001b[0m\u001b[0;34m\u001b[0m\u001b[0;34m\u001b[0m\u001b[0m\n\u001b[0;32m--> 848\u001b[0;31m             \u001b[0mpreds\u001b[0m\u001b[0;34m,\u001b[0m \u001b[0mnrow\u001b[0m \u001b[0;34m=\u001b[0m \u001b[0mself\u001b[0m\u001b[0;34m.\u001b[0m\u001b[0m__pred_for_np2d\u001b[0m\u001b[0;34m(\u001b[0m\u001b[0mdata\u001b[0m\u001b[0;34m,\u001b[0m \u001b[0mstart_iteration\u001b[0m\u001b[0;34m,\u001b[0m \u001b[0mnum_iteration\u001b[0m\u001b[0;34m,\u001b[0m \u001b[0mpredict_type\u001b[0m\u001b[0;34m)\u001b[0m\u001b[0;34m\u001b[0m\u001b[0;34m\u001b[0m\u001b[0m\n\u001b[0m\u001b[1;32m    849\u001b[0m         \u001b[0;32melif\u001b[0m \u001b[0misinstance\u001b[0m\u001b[0;34m(\u001b[0m\u001b[0mdata\u001b[0m\u001b[0;34m,\u001b[0m \u001b[0mlist\u001b[0m\u001b[0;34m)\u001b[0m\u001b[0;34m:\u001b[0m\u001b[0;34m\u001b[0m\u001b[0;34m\u001b[0m\u001b[0m\n\u001b[1;32m    850\u001b[0m             \u001b[0;32mtry\u001b[0m\u001b[0;34m:\u001b[0m\u001b[0;34m\u001b[0m\u001b[0;34m\u001b[0m\u001b[0m\n",
      "\u001b[0;32m/usr/local/lib/python3.6/dist-packages/lightgbm/basic.py\u001b[0m in \u001b[0;36m__pred_for_np2d\u001b[0;34m(self, mat, start_iteration, num_iteration, predict_type)\u001b[0m\n\u001b[1;32m    936\u001b[0m             \u001b[0;32mreturn\u001b[0m \u001b[0mpreds\u001b[0m\u001b[0;34m,\u001b[0m \u001b[0mnrow\u001b[0m\u001b[0;34m\u001b[0m\u001b[0;34m\u001b[0m\u001b[0m\n\u001b[1;32m    937\u001b[0m         \u001b[0;32melse\u001b[0m\u001b[0;34m:\u001b[0m\u001b[0;34m\u001b[0m\u001b[0;34m\u001b[0m\u001b[0m\n\u001b[0;32m--> 938\u001b[0;31m             \u001b[0;32mreturn\u001b[0m \u001b[0minner_predict\u001b[0m\u001b[0;34m(\u001b[0m\u001b[0mmat\u001b[0m\u001b[0;34m,\u001b[0m \u001b[0mstart_iteration\u001b[0m\u001b[0;34m,\u001b[0m \u001b[0mnum_iteration\u001b[0m\u001b[0;34m,\u001b[0m \u001b[0mpredict_type\u001b[0m\u001b[0;34m)\u001b[0m\u001b[0;34m\u001b[0m\u001b[0;34m\u001b[0m\u001b[0m\n\u001b[0m\u001b[1;32m    939\u001b[0m \u001b[0;34m\u001b[0m\u001b[0m\n\u001b[1;32m    940\u001b[0m     def __create_sparse_native(self, cs, out_shape, out_ptr_indptr, out_ptr_indices, out_ptr_data,\n",
      "\u001b[0;32m/usr/local/lib/python3.6/dist-packages/lightgbm/basic.py\u001b[0m in \u001b[0;36minner_predict\u001b[0;34m(mat, start_iteration, num_iteration, predict_type, preds)\u001b[0m\n\u001b[1;32m    918\u001b[0m                 \u001b[0mc_str\u001b[0m\u001b[0;34m(\u001b[0m\u001b[0mself\u001b[0m\u001b[0;34m.\u001b[0m\u001b[0mpred_parameter\u001b[0m\u001b[0;34m)\u001b[0m\u001b[0;34m,\u001b[0m\u001b[0;34m\u001b[0m\u001b[0;34m\u001b[0m\u001b[0m\n\u001b[1;32m    919\u001b[0m                 \u001b[0mctypes\u001b[0m\u001b[0;34m.\u001b[0m\u001b[0mbyref\u001b[0m\u001b[0;34m(\u001b[0m\u001b[0mout_num_preds\u001b[0m\u001b[0;34m)\u001b[0m\u001b[0;34m,\u001b[0m\u001b[0;34m\u001b[0m\u001b[0;34m\u001b[0m\u001b[0m\n\u001b[0;32m--> 920\u001b[0;31m                 preds.ctypes.data_as(ctypes.POINTER(ctypes.c_double))))\n\u001b[0m\u001b[1;32m    921\u001b[0m             \u001b[0;32mif\u001b[0m \u001b[0mn_preds\u001b[0m \u001b[0;34m!=\u001b[0m \u001b[0mout_num_preds\u001b[0m\u001b[0;34m.\u001b[0m\u001b[0mvalue\u001b[0m\u001b[0;34m:\u001b[0m\u001b[0;34m\u001b[0m\u001b[0;34m\u001b[0m\u001b[0m\n\u001b[1;32m    922\u001b[0m                 \u001b[0;32mraise\u001b[0m \u001b[0mValueError\u001b[0m\u001b[0;34m(\u001b[0m\u001b[0;34m\"Wrong length for predict results\"\u001b[0m\u001b[0;34m)\u001b[0m\u001b[0;34m\u001b[0m\u001b[0;34m\u001b[0m\u001b[0m\n",
      "\u001b[0;31mKeyboardInterrupt\u001b[0m: "
     ]
    }
   ],
   "source": [
    "profit_stop_rate_list=[0.2,0.4,0.5,0.8,1,1.2]\n",
    "max_down_list = []\n",
    "test_env.reset()\n",
    "for profit_stop_rate in profit_stop_rate_list:\n",
    "    test_env.loss_stop_rate = -0.13\n",
    "    test_env.profit_stop_rate = profit_stop_rate\n",
    "    test_env.backtest() \n",
    "    max_down_list.append(test_env.portfolio.max_drawdown_rate )\n",
    "    print(test_env.portfolio.max_drawdown_rate)\n",
    "    print(test_env.portfolio.total_pnl_rate)\n",
    "    test_env.reset()"
   ]
  },
  {
   "cell_type": "code",
   "execution_count": null,
   "id": "76cf3620-af13-413d-84d9-3827831b1a14",
   "metadata": {},
   "outputs": [],
   "source": []
  },
  {
   "cell_type": "code",
   "execution_count": 70,
   "id": "c354b310-6283-4f59-858d-eb7a17169854",
   "metadata": {
    "gradient": {
     "editing": false,
     "id": "c354b310-6283-4f59-858d-eb7a17169854",
     "kernelId": "56be0568-28a5-44c4-ba07-cc6d8ff4a37c"
    },
    "tags": []
   },
   "outputs": [
    {
     "name": "stdout",
     "output_type": "stream",
     "text": [
      "0.11692443133715832\n",
      "1.40829994576503e+22\n",
      "0.16098009579522246\n",
      "1170762320.1155539\n"
     ]
    },
    {
     "ename": "KeyboardInterrupt",
     "evalue": "",
     "output_type": "error",
     "traceback": [
      "\u001b[0;31m---------------------------------------------------------------------------\u001b[0m",
      "\u001b[0;31mKeyboardInterrupt\u001b[0m                         Traceback (most recent call last)",
      "\u001b[0;32m<ipython-input-70-3d3a765a0d58>\u001b[0m in \u001b[0;36m<module>\u001b[0;34m\u001b[0m\n\u001b[1;32m      5\u001b[0m \u001b[0;32mfor\u001b[0m \u001b[0mthreshold\u001b[0m \u001b[0;32min\u001b[0m \u001b[0mthreshold_list\u001b[0m\u001b[0;34m:\u001b[0m\u001b[0;34m\u001b[0m\u001b[0;34m\u001b[0m\u001b[0m\n\u001b[1;32m      6\u001b[0m     \u001b[0mtest_env\u001b[0m\u001b[0;34m.\u001b[0m\u001b[0mthreshold\u001b[0m \u001b[0;34m=\u001b[0m \u001b[0mthreshold\u001b[0m\u001b[0;34m\u001b[0m\u001b[0;34m\u001b[0m\u001b[0m\n\u001b[0;32m----> 7\u001b[0;31m     \u001b[0mtest_env\u001b[0m\u001b[0;34m.\u001b[0m\u001b[0mbacktest\u001b[0m\u001b[0;34m(\u001b[0m\u001b[0;34m)\u001b[0m\u001b[0;34m\u001b[0m\u001b[0;34m\u001b[0m\u001b[0m\n\u001b[0m\u001b[1;32m      8\u001b[0m     \u001b[0mmax_down_list\u001b[0m\u001b[0;34m.\u001b[0m\u001b[0mappend\u001b[0m\u001b[0;34m(\u001b[0m\u001b[0mtest_env\u001b[0m\u001b[0;34m.\u001b[0m\u001b[0mportfolio\u001b[0m\u001b[0;34m.\u001b[0m\u001b[0mmax_drawdown_rate\u001b[0m \u001b[0;34m)\u001b[0m\u001b[0;34m\u001b[0m\u001b[0;34m\u001b[0m\u001b[0m\n\u001b[1;32m      9\u001b[0m     \u001b[0mprint\u001b[0m\u001b[0;34m(\u001b[0m\u001b[0mtest_env\u001b[0m\u001b[0;34m.\u001b[0m\u001b[0mportfolio\u001b[0m\u001b[0;34m.\u001b[0m\u001b[0mmax_drawdown_rate\u001b[0m\u001b[0;34m)\u001b[0m\u001b[0;34m\u001b[0m\u001b[0;34m\u001b[0m\u001b[0m\n",
      "\u001b[0;32m<ipython-input-67-74087b97ea6b>\u001b[0m in \u001b[0;36mbacktest\u001b[0;34m(self)\u001b[0m\n\u001b[1;32m    398\u001b[0m             \u001b[0;31m#print(self.unit)\u001b[0m\u001b[0;34m\u001b[0m\u001b[0;34m\u001b[0m\u001b[0;34m\u001b[0m\u001b[0m\n\u001b[1;32m    399\u001b[0m             \u001b[0mself\u001b[0m\u001b[0;34m.\u001b[0m\u001b[0mindicator_info\u001b[0m \u001b[0;34m=\u001b[0m \u001b[0mnp\u001b[0m\u001b[0;34m.\u001b[0m\u001b[0marray\u001b[0m\u001b[0;34m(\u001b[0m\u001b[0;34m[\u001b[0m\u001b[0mitem\u001b[0m\u001b[0;34m[\u001b[0m\u001b[0mself\u001b[0m\u001b[0;34m.\u001b[0m\u001b[0mclock_step\u001b[0m\u001b[0;34m]\u001b[0m \u001b[0;32mfor\u001b[0m \u001b[0mitem\u001b[0m \u001b[0;32min\u001b[0m \u001b[0mself\u001b[0m\u001b[0;34m.\u001b[0m\u001b[0mindicator_array\u001b[0m\u001b[0;34m]\u001b[0m\u001b[0;34m)\u001b[0m\u001b[0;34m\u001b[0m\u001b[0;34m\u001b[0m\u001b[0m\n\u001b[0;32m--> 400\u001b[0;31m             \u001b[0mpredict\u001b[0m \u001b[0;34m=\u001b[0m\u001b[0mself\u001b[0m\u001b[0;34m.\u001b[0m\u001b[0mpredict_siginal\u001b[0m\u001b[0;34m(\u001b[0m\u001b[0mself\u001b[0m\u001b[0;34m.\u001b[0m\u001b[0mindicator_info\u001b[0m\u001b[0;34m)\u001b[0m\u001b[0;34m\u001b[0m\u001b[0;34m\u001b[0m\u001b[0m\n\u001b[0m\u001b[1;32m    401\u001b[0m \u001b[0;34m\u001b[0m\u001b[0m\n\u001b[1;32m    402\u001b[0m             \u001b[0mself\u001b[0m\u001b[0;34m.\u001b[0m\u001b[0mpos\u001b[0m \u001b[0;34m=\u001b[0m \u001b[0mself\u001b[0m\u001b[0;34m.\u001b[0m\u001b[0mportfolio\u001b[0m\u001b[0;34m.\u001b[0m\u001b[0mpos\u001b[0m\u001b[0;34m\u001b[0m\u001b[0;34m\u001b[0m\u001b[0m\n",
      "\u001b[0;32m<ipython-input-67-74087b97ea6b>\u001b[0m in \u001b[0;36mpredict_siginal\u001b[0;34m(self, indicator_info)\u001b[0m\n\u001b[1;32m    469\u001b[0m         \u001b[0mx\u001b[0m\u001b[0;34m=\u001b[0m\u001b[0mindicator_info\u001b[0m\u001b[0;34m.\u001b[0m\u001b[0mreshape\u001b[0m\u001b[0;34m(\u001b[0m\u001b[0;36m1\u001b[0m\u001b[0;34m,\u001b[0m\u001b[0;34m-\u001b[0m\u001b[0;36m1\u001b[0m\u001b[0;34m)\u001b[0m\u001b[0;34m\u001b[0m\u001b[0;34m\u001b[0m\u001b[0m\n\u001b[1;32m    470\u001b[0m         \u001b[0;32mfor\u001b[0m \u001b[0mmodel\u001b[0m \u001b[0;32min\u001b[0m \u001b[0mself\u001b[0m\u001b[0;34m.\u001b[0m\u001b[0mmodels\u001b[0m\u001b[0;34m:\u001b[0m\u001b[0;34m\u001b[0m\u001b[0;34m\u001b[0m\u001b[0m\n\u001b[0;32m--> 471\u001b[0;31m             \u001b[0mpredict\u001b[0m\u001b[0;34m.\u001b[0m\u001b[0mappend\u001b[0m\u001b[0;34m(\u001b[0m\u001b[0mspecial\u001b[0m\u001b[0;34m.\u001b[0m\u001b[0mexpit\u001b[0m\u001b[0;34m(\u001b[0m\u001b[0mmodel\u001b[0m\u001b[0;34m.\u001b[0m\u001b[0mpredict\u001b[0m\u001b[0;34m(\u001b[0m\u001b[0mx\u001b[0m\u001b[0;34m)\u001b[0m\u001b[0;34m)\u001b[0m\u001b[0;34m)\u001b[0m\u001b[0;34m\u001b[0m\u001b[0;34m\u001b[0m\u001b[0m\n\u001b[0m\u001b[1;32m    472\u001b[0m         \u001b[0mprob\u001b[0m\u001b[0;34m=\u001b[0m\u001b[0mnp\u001b[0m\u001b[0;34m.\u001b[0m\u001b[0mmean\u001b[0m\u001b[0;34m(\u001b[0m\u001b[0mpredict\u001b[0m\u001b[0;34m,\u001b[0m\u001b[0maxis\u001b[0m\u001b[0;34m=\u001b[0m\u001b[0;36m0\u001b[0m\u001b[0;34m)\u001b[0m\u001b[0;34m\u001b[0m\u001b[0;34m\u001b[0m\u001b[0m\n\u001b[1;32m    473\u001b[0m         \u001b[0mprob_max\u001b[0m \u001b[0;34m=\u001b[0m\u001b[0mnp\u001b[0m\u001b[0;34m.\u001b[0m\u001b[0mmax\u001b[0m\u001b[0;34m(\u001b[0m\u001b[0mprob\u001b[0m\u001b[0;34m)\u001b[0m\u001b[0;34m\u001b[0m\u001b[0;34m\u001b[0m\u001b[0m\n",
      "\u001b[0;32m/usr/local/lib/python3.6/dist-packages/lightgbm/basic.py\u001b[0m in \u001b[0;36mpredict\u001b[0;34m(self, data, start_iteration, num_iteration, raw_score, pred_leaf, pred_contrib, data_has_header, is_reshape, **kwargs)\u001b[0m\n",
      "\u001b[0;32m/usr/local/lib/python3.6/dist-packages/lightgbm/basic.py\u001b[0m in \u001b[0;36mpredict\u001b[0;34m(self, data, start_iteration, num_iteration, raw_score, pred_leaf, pred_contrib, data_has_header, is_reshape)\u001b[0m\n\u001b[1;32m    846\u001b[0m         \u001b[0mcs_output_matrices\u001b[0m \u001b[0;34m=\u001b[0m \u001b[0;34m[\u001b[0m\u001b[0;34m]\u001b[0m\u001b[0;34m\u001b[0m\u001b[0;34m\u001b[0m\u001b[0m\n\u001b[1;32m    847\u001b[0m         \u001b[0moffset\u001b[0m \u001b[0;34m=\u001b[0m \u001b[0;36m0\u001b[0m\u001b[0;34m\u001b[0m\u001b[0;34m\u001b[0m\u001b[0m\n\u001b[0;32m--> 848\u001b[0;31m         \u001b[0;32mfor\u001b[0m \u001b[0mcs_indptr\u001b[0m \u001b[0;32min\u001b[0m \u001b[0mout_indptr_arrays\u001b[0m\u001b[0;34m:\u001b[0m\u001b[0;34m\u001b[0m\u001b[0;34m\u001b[0m\u001b[0m\n\u001b[0m\u001b[1;32m    849\u001b[0m             \u001b[0mmatrix_indptr_len\u001b[0m \u001b[0;34m=\u001b[0m \u001b[0mcs_indptr\u001b[0m\u001b[0;34m[\u001b[0m\u001b[0mcs_indptr\u001b[0m\u001b[0;34m.\u001b[0m\u001b[0mshape\u001b[0m\u001b[0;34m[\u001b[0m\u001b[0;36m0\u001b[0m\u001b[0;34m]\u001b[0m \u001b[0;34m-\u001b[0m \u001b[0;36m1\u001b[0m\u001b[0;34m]\u001b[0m\u001b[0;34m\u001b[0m\u001b[0;34m\u001b[0m\u001b[0m\n\u001b[1;32m    850\u001b[0m             \u001b[0mcs_indices\u001b[0m \u001b[0;34m=\u001b[0m \u001b[0mout_indices\u001b[0m\u001b[0;34m[\u001b[0m\u001b[0moffset\u001b[0m \u001b[0;34m+\u001b[0m \u001b[0mcs_indptr\u001b[0m\u001b[0;34m[\u001b[0m\u001b[0;36m0\u001b[0m\u001b[0;34m]\u001b[0m\u001b[0;34m:\u001b[0m\u001b[0moffset\u001b[0m \u001b[0;34m+\u001b[0m \u001b[0mmatrix_indptr_len\u001b[0m\u001b[0;34m]\u001b[0m\u001b[0;34m\u001b[0m\u001b[0;34m\u001b[0m\u001b[0m\n",
      "\u001b[0;32m/usr/local/lib/python3.6/dist-packages/lightgbm/basic.py\u001b[0m in \u001b[0;36m__pred_for_np2d\u001b[0;34m(self, mat, start_iteration, num_iteration, predict_type)\u001b[0m\n\u001b[1;32m    936\u001b[0m                 \u001b[0mctypes\u001b[0m\u001b[0;34m.\u001b[0m\u001b[0mbyref\u001b[0m\u001b[0;34m(\u001b[0m\u001b[0mout_ptr_indices\u001b[0m\u001b[0;34m)\u001b[0m\u001b[0;34m,\u001b[0m\u001b[0;34m\u001b[0m\u001b[0;34m\u001b[0m\u001b[0m\n\u001b[1;32m    937\u001b[0m                 ctypes.byref(out_ptr_data)))\n\u001b[0;32m--> 938\u001b[0;31m             matrices = self.__create_sparse_native(csr, out_shape, out_ptr_indptr, out_ptr_indices, out_ptr_data,\n\u001b[0m\u001b[1;32m    939\u001b[0m                                                    type_ptr_indptr, type_ptr_data, is_csr=True)\n\u001b[1;32m    940\u001b[0m             \u001b[0mnrow\u001b[0m \u001b[0;34m=\u001b[0m \u001b[0mlen\u001b[0m\u001b[0;34m(\u001b[0m\u001b[0mcsr\u001b[0m\u001b[0;34m.\u001b[0m\u001b[0mindptr\u001b[0m\u001b[0;34m)\u001b[0m \u001b[0;34m-\u001b[0m \u001b[0;36m1\u001b[0m\u001b[0;34m\u001b[0m\u001b[0;34m\u001b[0m\u001b[0m\n",
      "\u001b[0;32m/usr/local/lib/python3.6/dist-packages/lightgbm/basic.py\u001b[0m in \u001b[0;36minner_predict\u001b[0;34m(mat, start_iteration, num_iteration, predict_type, preds)\u001b[0m\n\u001b[1;32m    918\u001b[0m             \u001b[0mout_shape\u001b[0m \u001b[0;34m=\u001b[0m \u001b[0mnp\u001b[0m\u001b[0;34m.\u001b[0m\u001b[0mzeros\u001b[0m\u001b[0;34m(\u001b[0m\u001b[0;36m2\u001b[0m\u001b[0;34m,\u001b[0m \u001b[0mdtype\u001b[0m\u001b[0;34m=\u001b[0m\u001b[0mnp\u001b[0m\u001b[0;34m.\u001b[0m\u001b[0mint64\u001b[0m\u001b[0;34m)\u001b[0m\u001b[0;34m\u001b[0m\u001b[0;34m\u001b[0m\u001b[0m\n\u001b[1;32m    919\u001b[0m             _safe_call(_LIB.LGBM_BoosterPredictSparseOutput(\n\u001b[0;32m--> 920\u001b[0;31m                 \u001b[0mself\u001b[0m\u001b[0;34m.\u001b[0m\u001b[0mhandle\u001b[0m\u001b[0;34m,\u001b[0m\u001b[0;34m\u001b[0m\u001b[0;34m\u001b[0m\u001b[0m\n\u001b[0m\u001b[1;32m    921\u001b[0m                 \u001b[0mptr_indptr\u001b[0m\u001b[0;34m,\u001b[0m\u001b[0;34m\u001b[0m\u001b[0;34m\u001b[0m\u001b[0m\n\u001b[1;32m    922\u001b[0m                 \u001b[0mctypes\u001b[0m\u001b[0;34m.\u001b[0m\u001b[0mc_int32\u001b[0m\u001b[0;34m(\u001b[0m\u001b[0mtype_ptr_indptr\u001b[0m\u001b[0;34m)\u001b[0m\u001b[0;34m,\u001b[0m\u001b[0;34m\u001b[0m\u001b[0;34m\u001b[0m\u001b[0m\n",
      "\u001b[0;31mKeyboardInterrupt\u001b[0m: "
     ]
    }
   ],
   "source": [
    "threshold_list=[0.4,0.45,0.5,0.55,0.6]\n",
    "test_env.loss_stop_rate = -0.13\n",
    "test_env.profit_stop_rate = 0.5\n",
    "max_down_list = []\n",
    "for threshold in threshold_list:\n",
    "    test_env.threshold = threshold\n",
    "    test_env.backtest() \n",
    "    print(test_env.portfolio.max_drawdown_rate)\n",
    "    print(test_env.portfolio.total_pnl_rate)\n",
    "    test_env.reset()"
   ]
  },
  {
   "cell_type": "code",
   "execution_count": 73,
   "id": "4cc43144-1976-41ca-beab-9d3f0433099b",
   "metadata": {},
   "outputs": [],
   "source": [
    "test_env.reset()\n",
    "test_env.threshold = 0.4\n",
    "test_env.loss_stop_rate = -0.13\n",
    "test_env.profit_stop_rate = 0.5"
   ]
  },
  {
   "cell_type": "code",
   "execution_count": 74,
   "id": "d72a6e4a-b8d0-47e1-a0a6-8aaf0c3539cd",
   "metadata": {},
   "outputs": [
    {
     "name": "stdout",
     "output_type": "stream",
     "text": [
      "0.11692443133715832\n",
      "1.40829994576503e+22\n"
     ]
    }
   ],
   "source": [
    "test_env.backtest()\n",
    "print(test_env.portfolio.max_drawdown_rate)\n",
    "print(test_env.portfolio.total_pnl_rate)"
   ]
  },
  {
   "cell_type": "code",
   "execution_count": null,
   "id": "4ffd983a-777e-47ce-b3bd-a4e322aaeb70",
   "metadata": {
    "gradient": {
     "editing": false,
     "id": "4ffd983a-777e-47ce-b3bd-a4e322aaeb70",
     "kernelId": "56be0568-28a5-44c4-ba07-cc6d8ff4a37c"
    }
   },
   "outputs": [],
   "source": [
    "max_down_list = []"
   ]
  },
  {
   "cell_type": "code",
   "execution_count": null,
   "id": "3390bb96-fb40-4275-ad8c-8637d05a684d",
   "metadata": {
    "gradient": {
     "editing": false,
     "id": "3390bb96-fb40-4275-ad8c-8637d05a684d",
     "kernelId": "56be0568-28a5-44c4-ba07-cc6d8ff4a37c"
    }
   },
   "outputs": [],
   "source": [
    "test_env.portfolio.net_capital,test_env.portfolio.max_net_capital "
   ]
  },
  {
   "cell_type": "code",
   "execution_count": null,
   "id": "862cc455-9a66-4bca-91a6-a778d5b06beb",
   "metadata": {
    "gradient": {
     "id": "862cc455-9a66-4bca-91a6-a778d5b06beb",
     "kernelId": "56be0568-28a5-44c4-ba07-cc6d8ff4a37c"
    }
   },
   "outputs": [],
   "source": [
    "test_env.portfolio.max_drawdown_rate "
   ]
  },
  {
   "cell_type": "code",
   "execution_count": 4,
   "id": "cd6af537-218f-41fc-8fc3-5c86227bdd23",
   "metadata": {
    "gradient": {
     "execution_count": 5,
     "id": "cd6af537-218f-41fc-8fc3-5c86227bdd23",
     "kernelId": "56be0568-28a5-44c4-ba07-cc6d8ff4a37c"
    }
   },
   "outputs": [],
   "source": [
    "df= test_env.step()"
   ]
  },
  {
   "cell_type": "code",
   "execution_count": 5,
   "id": "2b9cc759-bd18-46e3-94c1-173c60ca68d6",
   "metadata": {
    "gradient": {
     "execution_count": 6,
     "id": "2b9cc759-bd18-46e3-94c1-173c60ca68d6",
     "kernelId": "56be0568-28a5-44c4-ba07-cc6d8ff4a37c"
    }
   },
   "outputs": [],
   "source": [
    "df.Type=df.Type.shift() "
   ]
  },
  {
   "cell_type": "code",
   "execution_count": 6,
   "id": "9b560a33-7aad-434d-a8c5-db4c7a7dd987",
   "metadata": {},
   "outputs": [],
   "source": [
    "df = df.loc[:len(df)-2]"
   ]
  },
  {
   "cell_type": "markdown",
   "id": "3f887c88-2537-42bf-9dd2-e757d1e6779e",
   "metadata": {},
   "source": [
    "## 数据分析"
   ]
  },
  {
   "cell_type": "code",
   "execution_count": 15,
   "id": "fccce351-aa1b-4e8b-80e9-778c498b3f9d",
   "metadata": {
    "gradient": {
     "execution_count": 19,
     "id": "fccce351-aa1b-4e8b-80e9-778c498b3f9d",
     "kernelId": "56be0568-28a5-44c4-ba07-cc6d8ff4a37c"
    }
   },
   "outputs": [],
   "source": [
    "import matplotlib.pyplot as plt"
   ]
  },
  {
   "cell_type": "code",
   "execution_count": 16,
   "id": "a7970591-801f-41ce-95d0-297d4d5dd115",
   "metadata": {
    "gradient": {
     "execution_count": 8,
     "id": "a7970591-801f-41ce-95d0-297d4d5dd115",
     "kernelId": "56be0568-28a5-44c4-ba07-cc6d8ff4a37c"
    }
   },
   "outputs": [],
   "source": [
    "test_x = df.iloc[:10]"
   ]
  },
  {
   "cell_type": "code",
   "execution_count": 17,
   "id": "d2ed8b97-c72b-44be-ba3c-c98dd8668602",
   "metadata": {
    "gradient": {
     "execution_count": 11,
     "id": "d2ed8b97-c72b-44be-ba3c-c98dd8668602",
     "kernelId": "56be0568-28a5-44c4-ba07-cc6d8ff4a37c"
    }
   },
   "outputs": [],
   "source": [
    "H=test_x.high.values\n",
    "L=test_x.low.values\n",
    "C=test_x.close.values\n",
    "index=list(test_x.index)"
   ]
  },
  {
   "cell_type": "code",
   "execution_count": 18,
   "id": "0bbb82da-3f38-4cfe-aecc-ff8ee5bfe081",
   "metadata": {
    "gradient": {
     "execution_count": 16,
     "id": "0bbb82da-3f38-4cfe-aecc-ff8ee5bfe081",
     "kernelId": "56be0568-28a5-44c4-ba07-cc6d8ff4a37c"
    }
   },
   "outputs": [],
   "source": [
    "import talib as TA"
   ]
  },
  {
   "cell_type": "code",
   "execution_count": 19,
   "id": "9bcf7a68-0330-44e6-8749-369be05d47a7",
   "metadata": {
    "gradient": {
     "execution_count": 17,
     "id": "9bcf7a68-0330-44e6-8749-369be05d47a7",
     "kernelId": "56be0568-28a5-44c4-ba07-cc6d8ff4a37c"
    }
   },
   "outputs": [
    {
     "data": {
      "text/plain": [
       "0             NaN\n",
       "1             NaN\n",
       "2             NaN\n",
       "3             NaN\n",
       "4             NaN\n",
       "           ...   \n",
       "480956    4782.12\n",
       "480957    4778.81\n",
       "480958    4772.52\n",
       "480959    4772.52\n",
       "480960    4772.52\n",
       "Length: 480961, dtype: float64"
      ]
     },
     "execution_count": 19,
     "metadata": {},
     "output_type": "execute_result"
    }
   ],
   "source": [
    "TA.MAX(df.high,10)"
   ]
  },
  {
   "cell_type": "code",
   "execution_count": 20,
   "id": "aaa53300-6df3-4f92-b620-6e6417284f45",
   "metadata": {
    "gradient": {
     "execution_count": 24,
     "id": "aaa53300-6df3-4f92-b620-6e6417284f45",
     "kernelId": "56be0568-28a5-44c4-ba07-cc6d8ff4a37c"
    }
   },
   "outputs": [
    {
     "data": {
      "text/plain": [
       "[<matplotlib.lines.Line2D at 0x7f0998123470>]"
      ]
     },
     "execution_count": 20,
     "metadata": {},
     "output_type": "execute_result"
    },
    {
     "data": {
      "image/png": "[encoded data removed]",
      "text/plain": [
       "<Figure size 432x288 with 1 Axes>"
      ]
     },
     "metadata": {
      "needs_background": "light"
     },
     "output_type": "display_data"
    }
   ],
   "source": [
    "plt.plot(df.index,TA.MAX(df.high,500))"
   ]
  },
  {
   "cell_type": "code",
   "execution_count": 21,
   "id": "7238b20d-d228-4be3-a40c-2028ce922034",
   "metadata": {
    "gradient": {
     "execution_count": 33,
     "id": "7238b20d-d228-4be3-a40c-2028ce922034",
     "kernelId": "56be0568-28a5-44c4-ba07-cc6d8ff4a37c"
    }
   },
   "outputs": [
    {
     "data": {
      "text/plain": [
       "[<matplotlib.lines.Line2D at 0x7f0997db2898>]"
      ]
     },
     "execution_count": 21,
     "metadata": {},
     "output_type": "execute_result"
    },
    {
     "data": {
      "image/png": "[encoded data removed]",
      "text/plain": [
       "<Figure size 432x288 with 1 Axes>"
      ]
     },
     "metadata": {
      "needs_background": "light"
     },
     "output_type": "display_data"
    }
   ],
   "source": [
    "#plt.plot(df.index[:600],TA.MIN(df.low,500)[:600])\n",
    "#plt.plot(df.index[:600],TA.MAX(df.low,500)[:600])\n",
    "plt.plot(df.index[100:600],df.close[100:600])\n",
    "plt.plot(df.index[:600],TA.MAX(df.high,100)[:600])\n",
    "plt.plot(df.index[:600],TA.MIN(df.high,100)[:600])"
   ]
  },
  {
   "cell_type": "code",
   "execution_count": null,
   "id": "a0e2031f-aae8-4cbd-bd92-cbb0f0720ba8",
   "metadata": {
    "gradient": {
     "id": "a0e2031f-aae8-4cbd-bd92-cbb0f0720ba8",
     "kernelId": "56be0568-28a5-44c4-ba07-cc6d8ff4a37c"
    }
   },
   "outputs": [],
   "source": []
  },
  {
   "cell_type": "markdown",
   "id": "df4d8981-fc7b-4102-9d8a-bc3bfc728827",
   "metadata": {},
   "source": [
    "## 构建模型"
   ]
  },
  {
   "cell_type": "code",
   "execution_count": 35,
   "id": "8c205266-6f06-47df-a6fe-91badec03873",
   "metadata": {
    "gradient": {
     "execution_count": 7,
     "id": "8c205266-6f06-47df-a6fe-91badec03873",
     "kernelId": "56be0568-28a5-44c4-ba07-cc6d8ff4a37c"
    }
   },
   "outputs": [
    {
     "data": {
      "text/plain": [
       "0.0    360033\n",
       "1.0     82784\n",
       "2.0     82784\n",
       "Name: Type, dtype: int64"
      ]
     },
     "execution_count": 35,
     "metadata": {},
     "output_type": "execute_result"
    }
   ],
   "source": [
    "df.Type.value_counts()"
   ]
  },
  {
   "cell_type": "code",
   "execution_count": 7,
   "id": "cbaee90d-07ee-43a1-9384-dee25914d250",
   "metadata": {
    "gradient": {
     "execution_count": 8,
     "id": "cbaee90d-07ee-43a1-9384-dee25914d250",
     "kernelId": "56be0568-28a5-44c4-ba07-cc6d8ff4a37c"
    }
   },
   "outputs": [
    {
     "data": {
      "text/plain": [
       "['Time',\n",
       " 'Value',\n",
       " 'Type',\n",
       " 'PrevExt',\n",
       " 'time',\n",
       " 'high',\n",
       " 'low',\n",
       " 'open',\n",
       " 'close',\n",
       " 'volume',\n",
       " 'atr',\n",
       " 'target',\n",
       " '0',\n",
       " '1',\n",
       " '2',\n",
       " '3',\n",
       " '4',\n",
       " '5',\n",
       " '6',\n",
       " '7',\n",
       " '8',\n",
       " '9',\n",
       " '10',\n",
       " '11',\n",
       " '12',\n",
       " '13',\n",
       " '14',\n",
       " '15',\n",
       " '16',\n",
       " '17',\n",
       " '18',\n",
       " '19',\n",
       " '20',\n",
       " '21',\n",
       " '22',\n",
       " '23',\n",
       " '24',\n",
       " '25',\n",
       " '26',\n",
       " '27',\n",
       " '28',\n",
       " '29',\n",
       " '30',\n",
       " '31',\n",
       " '32',\n",
       " '33',\n",
       " '34',\n",
       " '35',\n",
       " '36',\n",
       " '37',\n",
       " '38',\n",
       " '39',\n",
       " '40',\n",
       " '41',\n",
       " '42',\n",
       " '43',\n",
       " '44',\n",
       " '45',\n",
       " '46',\n",
       " '47',\n",
       " '48',\n",
       " '49',\n",
       " '50',\n",
       " '51',\n",
       " '52',\n",
       " '53',\n",
       " '54',\n",
       " '55',\n",
       " '56',\n",
       " '57',\n",
       " '58',\n",
       " '59',\n",
       " '60',\n",
       " '61',\n",
       " '62',\n",
       " '63',\n",
       " '64',\n",
       " '65',\n",
       " '66',\n",
       " '67',\n",
       " '68',\n",
       " '69',\n",
       " '70',\n",
       " '71',\n",
       " '72',\n",
       " '73',\n",
       " '74',\n",
       " '75',\n",
       " '76',\n",
       " '77',\n",
       " '78',\n",
       " '79',\n",
       " '80',\n",
       " '81',\n",
       " '82',\n",
       " '83',\n",
       " '84',\n",
       " '85',\n",
       " '86',\n",
       " '87',\n",
       " '88',\n",
       " '89',\n",
       " '90',\n",
       " '91',\n",
       " '92',\n",
       " '93',\n",
       " '94',\n",
       " '95',\n",
       " '96',\n",
       " '97',\n",
       " '98',\n",
       " '99',\n",
       " '100',\n",
       " '101',\n",
       " '102',\n",
       " '103',\n",
       " '104',\n",
       " '105',\n",
       " '106',\n",
       " '107',\n",
       " '108',\n",
       " '109',\n",
       " '110',\n",
       " '111',\n",
       " '112',\n",
       " '113',\n",
       " '114',\n",
       " '115',\n",
       " '116']"
      ]
     },
     "execution_count": 7,
     "metadata": {},
     "output_type": "execute_result"
    }
   ],
   "source": [
    "df.columns.to_list()"
   ]
  },
  {
   "cell_type": "code",
   "execution_count": 8,
   "id": "bf8c53ab-4614-40ce-bd8c-a6a560303673",
   "metadata": {
    "gradient": {
     "execution_count": 9,
     "id": "bf8c53ab-4614-40ce-bd8c-a6a560303673",
     "kernelId": "56be0568-28a5-44c4-ba07-cc6d8ff4a37c"
    }
   },
   "outputs": [],
   "source": [
    "features_columns =[str(i) for i in range(117)]"
   ]
  },
  {
   "cell_type": "code",
   "execution_count": 9,
   "id": "67ce9758-e62d-446d-b4db-97b19105582c",
   "metadata": {
    "gradient": {
     "execution_count": 11,
     "id": "67ce9758-e62d-446d-b4db-97b19105582c",
     "kernelId": "56be0568-28a5-44c4-ba07-cc6d8ff4a37c"
    }
   },
   "outputs": [],
   "source": [
    "import copy \n",
    "all_feature= copy.deepcopy(features_columns)\n",
    "all_feature.append(\"Type\")"
   ]
  },
  {
   "cell_type": "code",
   "execution_count": 10,
   "id": "54a1b441-f64c-4c27-a1b9-a5bd54f02b5e",
   "metadata": {
    "gradient": {
     "execution_count": 12,
     "id": "54a1b441-f64c-4c27-a1b9-a5bd54f02b5e",
     "kernelId": "56be0568-28a5-44c4-ba07-cc6d8ff4a37c"
    }
   },
   "outputs": [],
   "source": [
    "test_df=df[all_feature]\n",
    "test_df=test_df.dropna()"
   ]
  },
  {
   "cell_type": "code",
   "execution_count": 11,
   "id": "7444139d-1492-4f31-8b43-d4fdd477a630",
   "metadata": {
    "gradient": {
     "execution_count": 13,
     "id": "7444139d-1492-4f31-8b43-d4fdd477a630",
     "kernelId": "56be0568-28a5-44c4-ba07-cc6d8ff4a37c"
    }
   },
   "outputs": [],
   "source": [
    "test_df[\"Type\"]=test_df[\"Type\"].astype(int)"
   ]
  },
  {
   "cell_type": "code",
   "execution_count": 12,
   "id": "40865c98-d6d8-4756-8920-c62ce341eaa2",
   "metadata": {
    "gradient": {
     "execution_count": 14,
     "id": "40865c98-d6d8-4756-8920-c62ce341eaa2",
     "kernelId": "56be0568-28a5-44c4-ba07-cc6d8ff4a37c"
    }
   },
   "outputs": [
    {
     "data": {
      "text/plain": [
       "0    310647\n",
       "1     24318\n",
       "2     24317\n",
       "Name: Type, dtype: int64"
      ]
     },
     "execution_count": 12,
     "metadata": {},
     "output_type": "execute_result"
    }
   ],
   "source": [
    "test_df.Type.value_counts()"
   ]
  },
  {
   "cell_type": "code",
   "execution_count": 13,
   "id": "d169420b-9312-4b19-9479-82c553f6c4d4",
   "metadata": {
    "gradient": {
     "execution_count": 21,
     "id": "d169420b-9312-4b19-9479-82c553f6c4d4",
     "kernelId": "56be0568-28a5-44c4-ba07-cc6d8ff4a37c"
    }
   },
   "outputs": [],
   "source": [
    "import numpy as np\n",
    "from scipy import optimize\n",
    "from scipy import special\n",
    "import pandas as pd\n",
    "import numpy as np\n",
    "from datetime import datetime\n",
    "import random\n",
    "import matplotlib.pyplot as plt\n",
    "import lightgbm as lgb\n",
    "import talib as TA\n",
    "import gc\n",
    "import optuna\n",
    "from optuna import Trial\n",
    "from scipy import optimize\n",
    "from scipy import special\n",
    "from sklearn.model_selection import TimeSeriesSplit\n",
    "from scipy.misc import derivative\n",
    "import seaborn as sns\n",
    "def sigmoid(x): \n",
    "    return 1./(1. +  np.exp(-x))\n",
    "\n",
    "def softmax(x):\n",
    "    exp_x = np.exp(x - np.max(x))\n",
    "    return exp_x / (np.sum(exp_x, axis=1, keepdims=True) + 1e-6)\n",
    "def focal_loss_lgb(y_pred, dtrain, alpha, gamma, num_class):\n",
    "    \"\"\"\n",
    "    Focal Loss for lightgbm\n",
    "\n",
    "    Parameters:\n",
    "    -----------\n",
    "    y_pred: numpy.ndarray\n",
    "        array with the predictions\n",
    "    dtrain: lightgbm.Dataset\n",
    "    alpha, gamma: float\n",
    "        See original paper https://arxiv.org/pdf/1708.02002.pdf\n",
    "    num_class: int\n",
    "        number of classes\n",
    "    \"\"\"\n",
    "    a,g = alpha, gamma\n",
    "    y_true = dtrain.label\n",
    "    # N observations x num_class arrays\n",
    "    y_true = np.eye(num_class)[y_true.astype('int')]\n",
    "    y_pred = y_pred.reshape(-1,num_class, order='F')\n",
    "    # alpha and gamma multiplicative factors with BCEWithLogitsLoss\n",
    "    def fl(x,t):\n",
    "        p = 1/(1+np.exp(-x))\n",
    "        return -( a*t + (1-a)*(1-t) ) * (( 1 - ( t*p + (1-t)*(1-p)) )**g) * ( t*np.log(p)+(1-t)*np.log(1-p) )\n",
    "    partial_fl = lambda x: fl(x, y_true)\n",
    "    grad = derivative(partial_fl, y_pred, n=1, dx=1e-6)\n",
    "    hess = derivative(partial_fl, y_pred, n=2, dx=1e-6)\n",
    "    # flatten in column-major (Fortran-style) order\n",
    "    return grad.flatten('F'), hess.flatten('F')\n",
    "def focal_loss_lgb_eval_error(y_pred, dtrain, alpha, gamma, num_class):\n",
    "    \"\"\"\n",
    "    Focal Loss for lightgbm\n",
    "\n",
    "    Parameters:\n",
    "    -----------\n",
    "    y_pred: numpy.ndarray\n",
    "        array with the predictions\n",
    "    dtrain: lightgbm.Dataset\n",
    "    alpha, gamma: float\n",
    "        See original paper https://arxiv.org/pdf/1708.02002.pdf\n",
    "    num_class: int\n",
    "        number of classes\n",
    "    \"\"\"\n",
    "    a,g = alpha, gamma\n",
    "    y_true = dtrain.label\n",
    "    y_true = np.eye(num_class)[y_true.astype('int')]\n",
    "    y_pred = y_pred.reshape(-1, num_class, order='F')\n",
    "    p = 1/(1+np.exp(-y_pred))\n",
    "    loss = -( a*y_true + (1-a)*(1-y_true) ) * (( 1 - ( y_true*p + (1-y_true)*(1-p)) )**g) * ( y_true*np.log(p)+(1-y_true)*np.log(1-p) )\n",
    "    # a variant can be np.sum(loss)/num_class\n",
    "    return 'focal_loss', np.mean(loss), False"
   ]
  },
  {
   "cell_type": "code",
   "execution_count": 14,
   "id": "063cf716-dd80-465a-b765-cc5d1eb2bc45",
   "metadata": {
    "gradient": {
     "execution_count": 25,
     "id": "063cf716-dd80-465a-b765-cc5d1eb2bc45",
     "kernelId": "56be0568-28a5-44c4-ba07-cc6d8ff4a37c"
    }
   },
   "outputs": [],
   "source": [
    "focal_loss = lambda x,y: focal_loss_lgb(x, y, 0.25, 2., 3)\n",
    "eval_error = lambda x,y: focal_loss_lgb_eval_error(x, y, 0.25, 2., 3)"
   ]
  },
  {
   "cell_type": "code",
   "execution_count": 15,
   "id": "73bdb2be-1bb2-4c25-87c2-1edbe7c70718",
   "metadata": {
    "gradient": {
     "execution_count": 26,
     "id": "73bdb2be-1bb2-4c25-87c2-1edbe7c70718",
     "kernelId": "56be0568-28a5-44c4-ba07-cc6d8ff4a37c"
    }
   },
   "outputs": [],
   "source": [
    "\n",
    "\n",
    "\n",
    "def fit_lgbm(trial, train, val, devices=(0,), seed=None, cat_features=None, num_rounds=1500):\n",
    "    \"\"\"Train Light GBM model\"\"\"\n",
    "    X_train, y_train = train\n",
    "    X_valid, y_valid = val\n",
    "    ## import for metric and params search \n",
    "    metric= {'multi_error'} \n",
    "    params = {\n",
    "         'objective': 'multiclass',\n",
    "        #'objective':'binary',\n",
    "        \"num_class\":3,\n",
    "        'max_depth': trial.suggest_int('max_depth', 1, 10),\n",
    "        'learning_rate':trial.suggest_uniform('learning_rate', 0.01, 0.15),\n",
    "        \"boosting\": \"gbdt\",\n",
    "        'lambda_l1': trial.suggest_loguniform('lambda_l1', 0.1, 10.0),\n",
    "        'lambda_l2': trial.suggest_loguniform('lambda_l2', 0.1, 10.0),\n",
    "        \"bagging_freq\": trial.suggest_int('bagging_freq', 1, 10),\n",
    "        \"bagging_fraction\": trial.suggest_uniform('bagging_fraction', 0.1, 1.0),\n",
    "        \"feature_fraction\": trial.suggest_uniform('feature_fraction', 0.1, 1.0),\n",
    "        \"metric\":metric,\n",
    "        \"verbosity\": -1,\n",
    "        \"max_bin\":15,\n",
    "        \"gpu_use_dp\":False,\n",
    "    }\n",
    "    device = devices[0]\n",
    "    if device == -1:\n",
    "        # use cpu\n",
    "        pass\n",
    "    else:\n",
    "        # use gpu\n",
    "        print(f'using gpu device_id {device}...')\n",
    "        params.update({'device': 'gpu'})\n",
    "\n",
    "    params['seed'] = seed\n",
    "\n",
    "    early_stop = 1000\n",
    "    verbose_eval = 1000\n",
    "\n",
    "    d_train = lgb.Dataset(X_train, label=y_train)\n",
    "    d_valid = lgb.Dataset(X_valid, label=y_valid)\n",
    "    watchlist = [d_train, d_valid]\n",
    "\n",
    "    print('training LGB:')\n",
    "    model = lgb.train(params,\n",
    "                      train_set=d_train,\n",
    "                      num_boost_round=num_rounds,\n",
    "                      valid_sets=watchlist,\n",
    "                      verbose_eval=verbose_eval,\n",
    "                      early_stopping_rounds=early_stop,\n",
    "                      fobj=focal_loss,\n",
    "                      feval=eval_error)\n",
    "\n",
    "    \n",
    "    # predictions\n",
    "    #y_pred_valid = np.argmax(model.predict(X_valid, num_iteration=model.best_iteration),axis=1)\n",
    "    #valid_score = precision_score(y_valid,y_pred_valid,average=\"macro\")\n",
    "    print('best_score', model.best_score)\n",
    "    log = {'train_loss': model.best_score['training']['multi_error'],\n",
    "           'valid_loss': model.best_score['valid_1']['multi_error']}\n",
    "    return model, log\n",
    "\n",
    "def objective(trial: Trial, fast_check=True, target_meter=0, return_info=False):\n",
    "    folds = 5\n",
    "    seed = 42\n",
    "    shuffle = False\n",
    "    kf = TimeSeriesSplit(n_splits=folds,max_train_size=None)\n",
    "\n",
    "    X_train = test_df[features_columns]\n",
    "    y_train = np.array(test_df[\"Type\"])\n",
    "    print(len(X_train),len(y_train))\n",
    "    #y_valid_pred_total = np.zeros(X_train.shape[0])\n",
    "    models = []\n",
    "    valid_score = 0\n",
    "    for train_idx, valid_idx in kf.split(X_train, y_train):\n",
    "        train_data = X_train.iloc[train_idx,:], y_train[train_idx]\n",
    "        valid_data = X_train.iloc[valid_idx,:], y_train[valid_idx]\n",
    "\n",
    "        print('train', len(train_idx), 'valid', len(valid_idx))\n",
    "    #     model, y_pred_valid, log = fit_cb(train_data, valid_data, cat_features=cat_features, devices=[0,])\n",
    "        model, log = fit_lgbm(trial, train_data, valid_data,\n",
    "                                            num_rounds=5000)\n",
    "        #y_valid_pred_total[valid_idx] = y_pred_valid\n",
    "        models.append(model)\n",
    "        gc.collect()\n",
    "        valid_score += log['valid_loss']\n",
    "        if fast_check:\n",
    "            break\n",
    "    valid_score /= len(models)\n",
    "    if return_info:\n",
    "        return models,valid_score\n",
    "    else:\n",
    "        return valid_score"
   ]
  },
  {
   "cell_type": "code",
   "execution_count": 16,
   "id": "95a122ce-33a2-41e5-9ac6-eb4f7876e5b1",
   "metadata": {
    "gradient": {
     "execution_count": 27,
     "id": "95a122ce-33a2-41e5-9ac6-eb4f7876e5b1",
     "kernelId": "56be0568-28a5-44c4-ba07-cc6d8ff4a37c"
    }
   },
   "outputs": [
    {
     "name": "stderr",
     "output_type": "stream",
     "text": [
      "\u001b[32m[I 2022-01-07 21:32:29,044]\u001b[0m A new study created in memory with name: no-name-99857b03-22c9-4493-b55f-6cedde3379de\u001b[0m\n"
     ]
    },
    {
     "name": "stdout",
     "output_type": "stream",
     "text": [
      "359282 359282\n",
      "train 59882 valid 59880\n",
      "using gpu device_id 0...\n",
      "training LGB:\n",
      "Training until validation scores don't improve for 1000 rounds\n",
      "[1000]\ttraining's multi_error: 0.0314118\ttraining's focal_loss: 0.00894524\tvalid_1's multi_error: 0.124031\tvalid_1's focal_loss: 0.0248481\n",
      "Early stopping, best iteration is:\n",
      "[251]\ttraining's multi_error: 0.0898935\ttraining's focal_loss: 0.0162745\tvalid_1's multi_error: 0.123614\tvalid_1's focal_loss: 0.0234309\n",
      "best_score defaultdict(<class 'collections.OrderedDict'>, {'training': OrderedDict([('multi_error', 0.08989345713236031), ('focal_loss', 0.016274506088962016)]), 'valid_1': OrderedDict([('multi_error', 0.12361389445557783), ('focal_loss', 0.023430898787351658)])})\n"
     ]
    },
    {
     "name": "stderr",
     "output_type": "stream",
     "text": [
      "\u001b[32m[I 2022-01-07 21:36:02,783]\u001b[0m Trial 0 finished with value: 0.12361389445557783 and parameters: {'max_depth': 10, 'learning_rate': 0.14475180642984628, 'lambda_l1': 2.2859407433274264, 'lambda_l2': 0.2938945607773354, 'bagging_freq': 4, 'bagging_fraction': 0.8558573306054031, 'feature_fraction': 0.46744898371142096}. Best is trial 0 with value: 0.12361389445557783.\u001b[0m\n"
     ]
    },
    {
     "name": "stdout",
     "output_type": "stream",
     "text": [
      "359282 359282\n",
      "train 59882 valid 59880\n",
      "using gpu device_id 0...\n",
      "training LGB:\n",
      "Training until validation scores don't improve for 1000 rounds\n",
      "[1000]\ttraining's multi_error: 0.108948\ttraining's focal_loss: 0.0195215\tvalid_1's multi_error: 0.123781\tvalid_1's focal_loss: 0.0233507\n",
      "[2000]\ttraining's multi_error: 0.0995959\ttraining's focal_loss: 0.0176856\tvalid_1's multi_error: 0.123447\tvalid_1's focal_loss: 0.0233803\n",
      "Early stopping, best iteration is:\n",
      "[1288]\ttraining's multi_error: 0.105892\ttraining's focal_loss: 0.0188975\tvalid_1's multi_error: 0.12328\tvalid_1's focal_loss: 0.0233097\n",
      "best_score defaultdict(<class 'collections.OrderedDict'>, {'training': OrderedDict([('multi_error', 0.10589158678734845), ('focal_loss', 0.01889754797405065)]), 'valid_1': OrderedDict([('multi_error', 0.12327989311957248), ('focal_loss', 0.023309657309470575)])})\n"
     ]
    },
    {
     "name": "stderr",
     "output_type": "stream",
     "text": [
      "\u001b[32m[I 2022-01-07 21:41:56,411]\u001b[0m Trial 1 finished with value: 0.12327989311957248 and parameters: {'max_depth': 3, 'learning_rate': 0.12325065906416498, 'lambda_l1': 3.6707391809092633, 'lambda_l2': 7.025859319149827, 'bagging_freq': 8, 'bagging_fraction': 0.8575673714756786, 'feature_fraction': 0.34333109057866484}. Best is trial 1 with value: 0.12327989311957248.\u001b[0m\n"
     ]
    },
    {
     "name": "stdout",
     "output_type": "stream",
     "text": [
      "359282 359282\n",
      "train 59882 valid 59880\n",
      "using gpu device_id 0...\n",
      "training LGB:\n",
      "Training until validation scores don't improve for 1000 rounds\n",
      "[1000]\ttraining's multi_error: 0.0807755\ttraining's focal_loss: 0.014742\tvalid_1's multi_error: 0.122545\tvalid_1's focal_loss: 0.0232846\n",
      "Early stopping, best iteration is:\n",
      "[729]\ttraining's multi_error: 0.0927658\ttraining's focal_loss: 0.0164744\tvalid_1's multi_error: 0.123029\tvalid_1's focal_loss: 0.0231982\n",
      "best_score defaultdict(<class 'collections.OrderedDict'>, {'training': OrderedDict([('multi_error', 0.09276577268628303), ('focal_loss', 0.016474381086434467)]), 'valid_1': OrderedDict([('multi_error', 0.12302939211756847), ('focal_loss', 0.02319815571028832)])})\n"
     ]
    },
    {
     "name": "stderr",
     "output_type": "stream",
     "text": [
      "\u001b[32m[I 2022-01-07 21:46:42,498]\u001b[0m Trial 2 finished with value: 0.12302939211756847 and parameters: {'max_depth': 6, 'learning_rate': 0.039760376865514646, 'lambda_l1': 0.4252979474436213, 'lambda_l2': 6.083053751186973, 'bagging_freq': 2, 'bagging_fraction': 0.6892219257085307, 'feature_fraction': 0.7745953906987427}. Best is trial 2 with value: 0.12302939211756847.\u001b[0m\n"
     ]
    },
    {
     "name": "stdout",
     "output_type": "stream",
     "text": [
      "359282 359282\n",
      "train 59882 valid 59880\n",
      "using gpu device_id 0...\n",
      "training LGB:\n",
      "Training until validation scores don't improve for 1000 rounds\n",
      "[1000]\ttraining's multi_error: 0.108497\ttraining's focal_loss: 0.0191133\tvalid_1's multi_error: 0.127104\tvalid_1's focal_loss: 0.0237563\n",
      "[2000]\ttraining's multi_error: 0.0892923\ttraining's focal_loss: 0.0158918\tvalid_1's multi_error: 0.124833\tvalid_1's focal_loss: 0.0237241\n",
      "Early stopping, best iteration is:\n",
      "[1552]\ttraining's multi_error: 0.0972078\ttraining's focal_loss: 0.0171786\tvalid_1's multi_error: 0.124933\tvalid_1's focal_loss: 0.0236755\n",
      "best_score defaultdict(<class 'collections.OrderedDict'>, {'training': OrderedDict([('multi_error', 0.09720784208944257), ('focal_loss', 0.017178636402306303)]), 'valid_1': OrderedDict([('multi_error', 0.12493319973279893), ('focal_loss', 0.02367553701300089)])})\n"
     ]
    },
    {
     "name": "stderr",
     "output_type": "stream",
     "text": [
      "\u001b[32m[I 2022-01-07 21:53:42,407]\u001b[0m Trial 3 finished with value: 0.12493319973279893 and parameters: {'max_depth': 8, 'learning_rate': 0.014378994747147985, 'lambda_l1': 0.3395933970607561, 'lambda_l2': 1.3461185559518836, 'bagging_freq': 8, 'bagging_fraction': 0.3316538520421012, 'feature_fraction': 0.7168397522499667}. Best is trial 2 with value: 0.12302939211756847.\u001b[0m\n"
     ]
    },
    {
     "name": "stdout",
     "output_type": "stream",
     "text": [
      "359282 359282\n",
      "train 59882 valid 59880\n",
      "using gpu device_id 0...\n",
      "training LGB:\n",
      "Training until validation scores don't improve for 1000 rounds\n",
      "[1000]\ttraining's multi_error: 0.122958\ttraining's focal_loss: 0.0218997\tvalid_1's multi_error: 0.129259\tvalid_1's focal_loss: 0.023936\n",
      "[2000]\ttraining's multi_error: 0.113657\ttraining's focal_loss: 0.0202221\tvalid_1's multi_error: 0.124916\tvalid_1's focal_loss: 0.023371\n",
      "[3000]\ttraining's multi_error: 0.107395\ttraining's focal_loss: 0.0190489\tvalid_1's multi_error: 0.123547\tvalid_1's focal_loss: 0.0231927\n",
      "[4000]\ttraining's multi_error: 0.102034\ttraining's focal_loss: 0.0180754\tvalid_1's multi_error: 0.122528\tvalid_1's focal_loss: 0.0231389\n",
      "Early stopping, best iteration is:\n",
      "[3504]\ttraining's multi_error: 0.104288\ttraining's focal_loss: 0.0185351\tvalid_1's multi_error: 0.122996\tvalid_1's focal_loss: 0.0231275\n",
      "best_score defaultdict(<class 'collections.OrderedDict'>, {'training': OrderedDict([('multi_error', 0.10428843392004275), ('focal_loss', 0.01853510742870493)]), 'valid_1': OrderedDict([('multi_error', 0.12299599198396793), ('focal_loss', 0.023127518311170193)])})\n"
     ]
    },
    {
     "name": "stderr",
     "output_type": "stream",
     "text": [
      "\u001b[32m[I 2022-01-07 22:05:14,898]\u001b[0m Trial 4 finished with value: 0.12299599198396793 and parameters: {'max_depth': 3, 'learning_rate': 0.026643044728396563, 'lambda_l1': 0.35656576831502135, 'lambda_l2': 4.2748769455763, 'bagging_freq': 6, 'bagging_fraction': 0.9067290765355682, 'feature_fraction': 0.5465923458098563}. Best is trial 4 with value: 0.12299599198396793.\u001b[0m\n"
     ]
    },
    {
     "name": "stdout",
     "output_type": "stream",
     "text": [
      "359282 359282\n",
      "train 59882 valid 59880\n",
      "using gpu device_id 0...\n",
      "training LGB:\n",
      "Training until validation scores don't improve for 1000 rounds\n",
      "[1000]\ttraining's multi_error: 0.0559601\ttraining's focal_loss: 0.0118484\tvalid_1's multi_error: 0.127255\tvalid_1's focal_loss: 0.027351\n",
      "Early stopping, best iteration is:\n",
      "[272]\ttraining's multi_error: 0.10514\ttraining's focal_loss: 0.0188884\tvalid_1's multi_error: 0.128006\tvalid_1's focal_loss: 0.02458\n",
      "best_score defaultdict(<class 'collections.OrderedDict'>, {'training': OrderedDict([('multi_error', 0.1051401088807989), ('focal_loss', 0.01888844662406906)]), 'valid_1': OrderedDict([('multi_error', 0.1280060120240481), ('focal_loss', 0.024579958735414187)])})\n"
     ]
    },
    {
     "name": "stderr",
     "output_type": "stream",
     "text": [
      "\u001b[32m[I 2022-01-07 22:08:44,757]\u001b[0m Trial 5 finished with value: 0.1280060120240481 and parameters: {'max_depth': 9, 'learning_rate': 0.06153987144940993, 'lambda_l1': 0.41652339619755774, 'lambda_l2': 0.16793803726761455, 'bagging_freq': 6, 'bagging_fraction': 0.20397314474033232, 'feature_fraction': 0.956161385558168}. Best is trial 4 with value: 0.12299599198396793.\u001b[0m\n"
     ]
    },
    {
     "name": "stdout",
     "output_type": "stream",
     "text": [
      "359282 359282\n",
      "train 59882 valid 59880\n",
      "using gpu device_id 0...\n",
      "training LGB:\n",
      "Training until validation scores don't improve for 1000 rounds\n",
      "[1000]\ttraining's multi_error: 0.0884239\ttraining's focal_loss: 0.0156886\tvalid_1's multi_error: 0.124065\tvalid_1's focal_loss: 0.0236546\n",
      "Early stopping, best iteration is:\n",
      "[783]\ttraining's multi_error: 0.0971911\ttraining's focal_loss: 0.0170016\tvalid_1's multi_error: 0.124449\tvalid_1's focal_loss: 0.0235071\n",
      "best_score defaultdict(<class 'collections.OrderedDict'>, {'training': OrderedDict([('multi_error', 0.09719114258040813), ('focal_loss', 0.017001620078205104)]), 'valid_1': OrderedDict([('multi_error', 0.12444889779559118), ('focal_loss', 0.023507065624096633)])})\n"
     ]
    },
    {
     "name": "stderr",
     "output_type": "stream",
     "text": [
      "\u001b[32m[I 2022-01-07 22:13:32,246]\u001b[0m Trial 6 finished with value: 0.12444889779559118 and parameters: {'max_depth': 5, 'learning_rate': 0.03508521893060538, 'lambda_l1': 0.26558560338203074, 'lambda_l2': 1.2340593502744541, 'bagging_freq': 6, 'bagging_fraction': 0.5193837603799337, 'feature_fraction': 0.9284242548220755}. Best is trial 4 with value: 0.12299599198396793.\u001b[0m\n"
     ]
    },
    {
     "name": "stdout",
     "output_type": "stream",
     "text": [
      "359282 359282\n",
      "train 59882 valid 59880\n",
      "using gpu device_id 0...\n",
      "training LGB:\n",
      "Training until validation scores don't improve for 1000 rounds\n",
      "[1000]\ttraining's multi_error: 0.205421\ttraining's focal_loss: 0.0952466\tvalid_1's multi_error: 0.205377\tvalid_1's focal_loss: 0.0965754\n",
      "Early stopping, best iteration is:\n",
      "[48]\ttraining's multi_error: 0.142614\ttraining's focal_loss: 0.0991792\tvalid_1's multi_error: 0.14023\tvalid_1's focal_loss: 0.099283\n",
      "best_score defaultdict(<class 'collections.OrderedDict'>, {'training': OrderedDict([('multi_error', 0.14261380715406968), ('focal_loss', 0.09917918572826001)]), 'valid_1': OrderedDict([('multi_error', 0.14023046092184369), ('focal_loss', 0.09928301753334415)])})\n"
     ]
    },
    {
     "name": "stderr",
     "output_type": "stream",
     "text": [
      "\u001b[32m[I 2022-01-07 22:16:00,920]\u001b[0m Trial 7 finished with value: 0.14023046092184369 and parameters: {'max_depth': 10, 'learning_rate': 0.012528620454054677, 'lambda_l1': 0.18140693252116957, 'lambda_l2': 5.626164044920143, 'bagging_freq': 10, 'bagging_fraction': 0.14161834346057545, 'feature_fraction': 0.11173907485049067}. Best is trial 4 with value: 0.12299599198396793.\u001b[0m\n"
     ]
    }
   ],
   "source": [
    "study = optuna.create_study()\n",
    "study.optimize(objective, n_trials=8)"
   ]
  },
  {
   "cell_type": "code",
   "execution_count": 17,
   "id": "243ff3e4-ebdb-471b-bf38-07baa5bd250a",
   "metadata": {
    "gradient": {
     "id": "243ff3e4-ebdb-471b-bf38-07baa5bd250a",
     "kernelId": "56be0568-28a5-44c4-ba07-cc6d8ff4a37c"
    }
   },
   "outputs": [
    {
     "data": {
      "text/plain": [
       "{'max_depth': 3,\n",
       " 'learning_rate': 0.026643044728396563,\n",
       " 'lambda_l1': 0.35656576831502135,\n",
       " 'lambda_l2': 4.2748769455763,\n",
       " 'bagging_freq': 6,\n",
       " 'bagging_fraction': 0.9067290765355682,\n",
       " 'feature_fraction': 0.5465923458098563}"
      ]
     },
     "execution_count": 17,
     "metadata": {},
     "output_type": "execute_result"
    }
   ],
   "source": [
    "study.best_params"
   ]
  },
  {
   "cell_type": "code",
   "execution_count": 25,
   "id": "3fa993e0-0bb3-4f60-84ed-0af4922db3eb",
   "metadata": {},
   "outputs": [],
   "source": [
    "params={'max_depth': 9,\n",
    " 'learning_rate': 0.018930251420317103,\n",
    " 'lambda_l1': 0.807957295078728,\n",
    " 'lambda_l2': 0.2700357190220375,\n",
    " 'bagging_freq': 7,\n",
    " 'bagging_fraction': 0.8804652382109686,\n",
    " 'feature_fraction': 0.8513238990999246}"
   ]
  },
  {
   "cell_type": "code",
   "execution_count": null,
   "id": "b2c68dd0-6a92-4bc4-9e6f-32010b1e6978",
   "metadata": {
    "gradient": {
     "id": "b2c68dd0-6a92-4bc4-9e6f-32010b1e6978",
     "kernelId": "56be0568-28a5-44c4-ba07-cc6d8ff4a37c"
    }
   },
   "outputs": [
    {
     "name": "stdout",
     "output_type": "stream",
     "text": [
      "359282 359282\n",
      "train 59882 valid 59880\n",
      "using gpu device_id 0...\n",
      "training LGB:\n",
      "Training until validation scores don't improve for 1000 rounds\n",
      "[1000]\ttraining's multi_error: 0.0978257\ttraining's focal_loss: 0.0174404\tvalid_1's multi_error: 0.123514\tvalid_1's focal_loss: 0.0232121\n",
      "[2000]\ttraining's multi_error: 0.073578\ttraining's focal_loss: 0.0137547\tvalid_1's multi_error: 0.122144\tvalid_1's focal_loss: 0.0232524\n",
      "Early stopping, best iteration is:\n",
      "[1217]\ttraining's multi_error: 0.0923984\ttraining's focal_loss: 0.0165015\tvalid_1's multi_error: 0.123347\tvalid_1's focal_loss: 0.0231579\n",
      "best_score defaultdict(<class 'collections.OrderedDict'>, {'training': OrderedDict([('multi_error', 0.09239838348752547), ('focal_loss', 0.016501524447559698)]), 'valid_1': OrderedDict([('multi_error', 0.12334669338677355), ('focal_loss', 0.023157904216555766)])})\n",
      "train 119762 valid 59880\n",
      "using gpu device_id 0...\n",
      "training LGB:\n",
      "Training until validation scores don't improve for 1000 rounds\n"
     ]
    }
   ],
   "source": [
    " models0,valid_score = objective(optuna.trial.FixedTrial(params), fast_check=False, target_meter=0, return_info=True)"
   ]
  },
  {
   "cell_type": "code",
   "execution_count": 68,
   "id": "3680345a-27db-49d3-9e03-3ab7532ca747",
   "metadata": {
    "gradient": {
     "id": "3680345a-27db-49d3-9e03-3ab7532ca747",
     "kernelId": "56be0568-28a5-44c4-ba07-cc6d8ff4a37c"
    }
   },
   "outputs": [],
   "source": [
    "for i in range(len(models0)):\n",
    "    models0[i].save_model(\"lightgbmeth_\"+str(i)+\".txt\")"
   ]
  },
  {
   "cell_type": "code",
   "execution_count": null,
   "id": "b3934818-984e-4628-b99f-56b27dc6bc9a",
   "metadata": {
    "gradient": {
     "id": "b3934818-984e-4628-b99f-56b27dc6bc9a",
     "kernelId": "56be0568-28a5-44c4-ba07-cc6d8ff4a37c"
    }
   },
   "outputs": [],
   "source": [
    "len(features_columns)"
   ]
  },
  {
   "cell_type": "code",
   "execution_count": null,
   "id": "0d1e40db-090c-49a7-a83c-704e0a1b88dc",
   "metadata": {
    "gradient": {
     "id": "0d1e40db-090c-49a7-a83c-704e0a1b88dc",
     "kernelId": "56be0568-28a5-44c4-ba07-cc6d8ff4a37c"
    }
   },
   "outputs": [],
   "source": []
  }
 ],
 "metadata": {
  "kernelspec": {
   "display_name": "Python 3",
   "language": "python",
   "name": "python3"
  },
  "language_info": {
   "codemirror_mode": {
    "name": "ipython",
    "version": 3
   },
   "file_extension": ".py",
   "mimetype": "text/x-python",
   "name": "python",
   "nbconvert_exporter": "python",
   "pygments_lexer": "ipython3",
   "version": "3.6.9"
  }
 },
 "nbformat": 4,
 "nbformat_minor": 5
}
